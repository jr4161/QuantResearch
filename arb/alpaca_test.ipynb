{
 "cells": [
  {
   "cell_type": "code",
   "execution_count": 5,
   "id": "7d341848-b116-45d3-a6c2-15330c94dc9b",
   "metadata": {},
   "outputs": [],
   "source": [
    "import requests\n",
    "import pandas as pd\n",
    "import numpy as np"
   ]
  },
  {
   "cell_type": "code",
   "execution_count": 74,
   "id": "1491dd3e-31a4-40fc-afba-403fad2d3459",
   "metadata": {},
   "outputs": [
    {
     "name": "stdout",
     "output_type": "stream",
     "text": [
      "200\n"
     ]
    }
   ],
   "source": [
    "url = \"https://paper-api.alpaca.markets/v2/orders\"\n",
    "\n",
    "headers = {\n",
    "    \"accept\": \"application/json\",\n",
    "    \"content-type\": \"application/json\",\n",
    "    \"APCA-API-KEY-ID\": \"PKWEUWO01XKVEUS3QZT5\",\n",
    "    \"APCA-API-SECRET-KEY\": \"7A8lCe62IdyvYOEbSw612DPbvolqgkvhTmQqUZhj\"\n",
    "}\n",
    "\n",
    "payload = {\n",
    "    \"side\": \"buy\",\n",
    "    \"type\": \"market\",\n",
    "    \"time_in_force\": \"day\",\n",
    "    \"symbol\": \"EETH\",\n",
    "    \"qty\": \"1\"\n",
    "}\n",
    "\n",
    "\n",
    "response = requests.post(url, json=payload, headers=headers)\n",
    "\n",
    "print(response.status_code)"
   ]
  },
  {
   "cell_type": "code",
   "execution_count": 75,
   "id": "9d1c671c-d31a-4bac-b70d-ee751c6ce6f3",
   "metadata": {
    "scrolled": true
   },
   "outputs": [
    {
     "data": {
      "text/plain": [
       "{'id': 'f17de47e-d365-49ae-9ea0-2365fbad0f7e',\n",
       " 'client_order_id': 'c939c93b-a897-47f2-be77-1524c5dbc196',\n",
       " 'created_at': '2024-01-05T16:27:14.770008425Z',\n",
       " 'updated_at': '2024-01-05T16:27:14.770057575Z',\n",
       " 'submitted_at': '2024-01-05T16:27:14.769137495Z',\n",
       " 'filled_at': None,\n",
       " 'expired_at': None,\n",
       " 'canceled_at': None,\n",
       " 'failed_at': None,\n",
       " 'replaced_at': None,\n",
       " 'replaced_by': None,\n",
       " 'replaces': None,\n",
       " 'asset_id': 'd3306331-17e0-4dff-844e-a577c4bb6731',\n",
       " 'symbol': 'EETH',\n",
       " 'asset_class': 'us_equity',\n",
       " 'notional': None,\n",
       " 'qty': '1',\n",
       " 'filled_qty': '0',\n",
       " 'filled_avg_price': None,\n",
       " 'order_class': '',\n",
       " 'order_type': 'market',\n",
       " 'type': 'market',\n",
       " 'side': 'buy',\n",
       " 'time_in_force': 'day',\n",
       " 'limit_price': None,\n",
       " 'stop_price': None,\n",
       " 'status': 'pending_new',\n",
       " 'extended_hours': False,\n",
       " 'legs': None,\n",
       " 'trail_percent': None,\n",
       " 'trail_price': None,\n",
       " 'hwm': None,\n",
       " 'subtag': None,\n",
       " 'source': None}"
      ]
     },
     "execution_count": 75,
     "metadata": {},
     "output_type": "execute_result"
    }
   ],
   "source": [
    "response.json()"
   ]
  },
  {
   "cell_type": "code",
   "execution_count": 80,
   "id": "14b414c4-ffef-40e9-919b-556f9efc8b61",
   "metadata": {},
   "outputs": [],
   "source": [
    "crypto_payload = {\n",
    "    \"side\": \"buy\",\n",
    "    \"type\": \"market\",\n",
    "    \"time_in_force\": \"gtc\",\n",
    "    \"symbol\": \"ETHUSD\",\n",
    "    \"qty\": \"1\"\n",
    "}"
   ]
  },
  {
   "cell_type": "code",
   "execution_count": 81,
   "id": "405a841d-9b65-4682-982c-28770cee9f7d",
   "metadata": {},
   "outputs": [
    {
     "name": "stdout",
     "output_type": "stream",
     "text": [
      "200\n"
     ]
    }
   ],
   "source": [
    "response1 = requests.post(url, json=crypto_payload, headers=headers)\n",
    "\n",
    "print(response1.status_code)"
   ]
  },
  {
   "cell_type": "code",
   "execution_count": 82,
   "id": "33a33a66-6329-4a08-8082-748b43e841e7",
   "metadata": {},
   "outputs": [
    {
     "data": {
      "text/plain": [
       "{'id': '109daeab-7f69-4a42-8e79-4e6d98d8bdc6',\n",
       " 'client_order_id': 'e3b5e5a6-3961-4fdf-a784-ad76f33ec2d5',\n",
       " 'created_at': '2024-01-05T16:27:52.685494041Z',\n",
       " 'updated_at': '2024-01-05T16:27:52.685532501Z',\n",
       " 'submitted_at': '2024-01-05T16:27:52.684643081Z',\n",
       " 'filled_at': None,\n",
       " 'expired_at': None,\n",
       " 'canceled_at': None,\n",
       " 'failed_at': None,\n",
       " 'replaced_at': None,\n",
       " 'replaced_by': None,\n",
       " 'replaces': None,\n",
       " 'asset_id': 'a1733398-6acc-4e92-af24-0d0667f78713',\n",
       " 'symbol': 'ETH/USD',\n",
       " 'asset_class': 'crypto',\n",
       " 'notional': None,\n",
       " 'qty': '1',\n",
       " 'filled_qty': '0',\n",
       " 'filled_avg_price': None,\n",
       " 'order_class': '',\n",
       " 'order_type': 'market',\n",
       " 'type': 'market',\n",
       " 'side': 'buy',\n",
       " 'time_in_force': 'gtc',\n",
       " 'limit_price': None,\n",
       " 'stop_price': None,\n",
       " 'status': 'pending_new',\n",
       " 'extended_hours': False,\n",
       " 'legs': None,\n",
       " 'trail_percent': None,\n",
       " 'trail_price': None,\n",
       " 'hwm': None,\n",
       " 'subtag': None,\n",
       " 'source': None}"
      ]
     },
     "execution_count": 82,
     "metadata": {},
     "output_type": "execute_result"
    }
   ],
   "source": [
    "response1.json()"
   ]
  },
  {
   "cell_type": "code",
   "execution_count": null,
   "id": "2a7e4937-b634-4713-a579-ee3a58aa6a76",
   "metadata": {},
   "outputs": [],
   "source": []
  }
 ],
 "metadata": {
  "kernelspec": {
   "display_name": "Python 3 (ipykernel)",
   "language": "python",
   "name": "python3"
  },
  "language_info": {
   "codemirror_mode": {
    "name": "ipython",
    "version": 3
   },
   "file_extension": ".py",
   "mimetype": "text/x-python",
   "name": "python",
   "nbconvert_exporter": "python",
   "pygments_lexer": "ipython3",
   "version": "3.10.11"
  }
 },
 "nbformat": 4,
 "nbformat_minor": 5
}
