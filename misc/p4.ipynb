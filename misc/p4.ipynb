{
 "cells": [
  {
   "cell_type": "code",
   "execution_count": 1,
   "id": "a7669c18",
   "metadata": {},
   "outputs": [],
   "source": [
    "import pandas_datareader.data as web\n",
    "import pandas as pd\n",
    "import datetime as dt\n",
    "import numpy as np\n",
    "import keras\n",
    "from keras.models import Sequential\n",
    "from keras.layers import Dense\n",
    "from keras.layers import LSTM\n",
    "from keras.layers import Dropout\n",
    "from keras.layers import Input\n",
    "from keras.layers import Conv2D\n",
    "from keras.layers import *\n",
    "from keras.optimizers import SGD\n",
    "from keras.models import Model\n",
    "from keras.models import load_model\n",
    "from keras.callbacks import ModelCheckpoint\n",
    "\n",
    "from sklearn.preprocessing import MinMaxScaler\n",
    "from sklearn.metrics import mean_squared_error\n",
    "from sklearn.metrics import mean_absolute_error\n",
    "from sklearn.model_selection import train_test_split\n",
    "from sklearn.metrics import r2_score\n",
    "from statsmodels.tsa.arima.model import ARIMA\n",
    "\n",
    "from keras.callbacks import EarlyStopping\n",
    "import matplotlib.pyplot as plt"
   ]
  },
  {
   "cell_type": "code",
   "execution_count": 192,
   "id": "338692ae",
   "metadata": {},
   "outputs": [],
   "source": [
    "#download S&P Data from past 5 years\n",
    "df = web.DataReader('SPY', 'yahoo', start='2017-10-22', end='2022-10-25')"
   ]
  },
  {
   "cell_type": "code",
   "execution_count": 193,
   "id": "059eae56",
   "metadata": {},
   "outputs": [],
   "source": [
    "df = df.iloc[:-61]\n",
    "df = df.pct_change() # get the returns\n",
    "df.iloc[0] = 0"
   ]
  },
  {
   "cell_type": "code",
   "execution_count": 194,
   "id": "08d0ed84",
   "metadata": {},
   "outputs": [
    {
     "data": {
      "text/html": [
       "<div>\n",
       "<style scoped>\n",
       "    .dataframe tbody tr th:only-of-type {\n",
       "        vertical-align: middle;\n",
       "    }\n",
       "\n",
       "    .dataframe tbody tr th {\n",
       "        vertical-align: top;\n",
       "    }\n",
       "\n",
       "    .dataframe thead th {\n",
       "        text-align: right;\n",
       "    }\n",
       "</style>\n",
       "<table border=\"1\" class=\"dataframe\">\n",
       "  <thead>\n",
       "    <tr style=\"text-align: right;\">\n",
       "      <th></th>\n",
       "      <th>High</th>\n",
       "      <th>Low</th>\n",
       "      <th>Open</th>\n",
       "      <th>Close</th>\n",
       "      <th>Volume</th>\n",
       "      <th>Adj Close</th>\n",
       "    </tr>\n",
       "    <tr>\n",
       "      <th>Date</th>\n",
       "      <th></th>\n",
       "      <th></th>\n",
       "      <th></th>\n",
       "      <th></th>\n",
       "      <th></th>\n",
       "      <th></th>\n",
       "    </tr>\n",
       "  </thead>\n",
       "  <tbody>\n",
       "    <tr>\n",
       "      <th>2017-10-23</th>\n",
       "      <td>0.000000</td>\n",
       "      <td>0.000000</td>\n",
       "      <td>0.000000</td>\n",
       "      <td>0.000000</td>\n",
       "      <td>0.000000</td>\n",
       "      <td>0.000000</td>\n",
       "    </tr>\n",
       "    <tr>\n",
       "      <th>2017-10-24</th>\n",
       "      <td>-0.002641</td>\n",
       "      <td>0.000508</td>\n",
       "      <td>-0.003418</td>\n",
       "      <td>0.001757</td>\n",
       "      <td>0.047259</td>\n",
       "      <td>0.001757</td>\n",
       "    </tr>\n",
       "    <tr>\n",
       "      <th>2017-10-25</th>\n",
       "      <td>-0.002025</td>\n",
       "      <td>-0.008393</td>\n",
       "      <td>-0.001637</td>\n",
       "      <td>-0.004950</td>\n",
       "      <td>0.549472</td>\n",
       "      <td>-0.004950</td>\n",
       "    </tr>\n",
       "    <tr>\n",
       "      <th>2017-10-26</th>\n",
       "      <td>-0.000039</td>\n",
       "      <td>0.005827</td>\n",
       "      <td>-0.000742</td>\n",
       "      <td>0.001293</td>\n",
       "      <td>-0.327023</td>\n",
       "      <td>0.001293</td>\n",
       "    </tr>\n",
       "    <tr>\n",
       "      <th>2017-10-27</th>\n",
       "      <td>0.006204</td>\n",
       "      <td>0.000587</td>\n",
       "      <td>0.001875</td>\n",
       "      <td>0.008176</td>\n",
       "      <td>0.225859</td>\n",
       "      <td>0.008176</td>\n",
       "    </tr>\n",
       "  </tbody>\n",
       "</table>\n",
       "</div>"
      ],
      "text/plain": [
       "                High       Low      Open     Close    Volume  Adj Close\n",
       "Date                                                                   \n",
       "2017-10-23  0.000000  0.000000  0.000000  0.000000  0.000000   0.000000\n",
       "2017-10-24 -0.002641  0.000508 -0.003418  0.001757  0.047259   0.001757\n",
       "2017-10-25 -0.002025 -0.008393 -0.001637 -0.004950  0.549472  -0.004950\n",
       "2017-10-26 -0.000039  0.005827 -0.000742  0.001293 -0.327023   0.001293\n",
       "2017-10-27  0.006204  0.000587  0.001875  0.008176  0.225859   0.008176"
      ]
     },
     "execution_count": 194,
     "metadata": {},
     "output_type": "execute_result"
    }
   ],
   "source": [
    "df.head()"
   ]
  },
  {
   "cell_type": "markdown",
   "id": "862fed12",
   "metadata": {},
   "source": [
    "# ANN Model"
   ]
  },
  {
   "cell_type": "code",
   "execution_count": 195,
   "id": "c7b68790",
   "metadata": {},
   "outputs": [],
   "source": [
    "## ANN 1\n",
    "input_layer = Input(shape=(5), dtype='float32')\n",
    "dense1 = Dense(60, activation='linear')(input_layer)\n",
    "dropout_layer = Dropout(0.2)(dense1)\n",
    "output_layer = Dense(1, activation='linear')(dropout_layer)\n",
    "\n",
    "ann1 = Model(inputs=input_layer, outputs=output_layer)\n",
    "ann1.compile(loss='mean_squared_error', optimizer='adam')\n",
    "\n",
    "## ANN 2\n",
    "dense3 = Dense(60, activation='relu')(input_layer)\n",
    "dense5 = Dense(60, activation='tanh')(dense3)\n",
    "dropout_layer1 = Dropout(0.2)(dense5)\n",
    "output_layer1 = Dense(1, activation='relu')(dropout_layer1)\n",
    "\n",
    "ann2 = Model(inputs=input_layer, outputs=output_layer1)\n",
    "ann2.compile(loss='mean_squared_error', optimizer='adam')\n",
    "\n",
    "## ANN 3\n",
    "dense6 = Dense(80, activation='sigmoid')(input_layer)\n",
    "dense8 = Dense(80, activation='tanh')(dense6)\n",
    "dropout_layer2 = Dropout(0.4)(dense8)\n",
    "output_layer2 = Dense(1, activation='relu')(dropout_layer2)\n",
    "\n",
    "ann3 = Model(inputs=input_layer, outputs=output_layer2)\n",
    "ann3.compile(loss='mean_squared_error', optimizer='adam')"
   ]
  },
  {
   "cell_type": "code",
   "execution_count": 196,
   "id": "eb8e0c94",
   "metadata": {},
   "outputs": [
    {
     "name": "stdout",
     "output_type": "stream",
     "text": [
      "Shape of training inputs, training target: (768, 5) (768,)\n",
      "Shape of validation inputs, validation target: (192, 5) (192,)\n",
      "Shape of test inputs, test target: (240, 5) (240,)\n"
     ]
    }
   ],
   "source": [
    "test_set_size = 0.2\n",
    "valid_set_size= 0.2\n",
    "\n",
    "df_copy = df.reset_index(drop=True)\n",
    "\n",
    "df_test = df_copy.iloc[ int(np.floor(len(df_copy)*(1-test_set_size))) : ]\n",
    "df_train_plus_valid = df_copy.iloc[ : int(np.floor(len(df_copy)*(1-test_set_size))) ]\n",
    "\n",
    "df_train = df_train_plus_valid.iloc[ : int(np.floor(len(df_train_plus_valid)*(1-valid_set_size))) ]\n",
    "df_valid = df_train_plus_valid.iloc[ int(np.floor(len(df_train_plus_valid)*(1-valid_set_size))) : ]\n",
    "\n",
    "\n",
    "X_train, y_train = df_train.iloc[:, :5], df_train.iloc[:, 5]\n",
    "X_valid, y_valid = df_valid.iloc[:, :5], df_valid.iloc[:, 5]\n",
    "X_test, y_test = df_test.iloc[:, :5], df_test.iloc[:, 5]\n",
    "\n",
    "print('Shape of training inputs, training target:', X_train.shape, y_train.shape)\n",
    "print('Shape of validation inputs, validation target:', X_valid.shape, y_valid.shape)\n",
    "print('Shape of test inputs, test target:', X_test.shape, y_test.shape)"
   ]
  },
  {
   "cell_type": "code",
   "execution_count": 197,
   "id": "47ea3d62",
   "metadata": {},
   "outputs": [],
   "source": [
    "Target_scaler = MinMaxScaler(feature_range=(0.01, 0.99))\n",
    "Feature_scaler = MinMaxScaler(feature_range=(0.01, 0.99))\n",
    "\n",
    "X_train_scaled = Feature_scaler.fit_transform(np.array(X_train))\n",
    "X_valid_scaled = Feature_scaler.fit_transform(np.array(X_valid))\n",
    "X_test_scaled = Feature_scaler.fit_transform(np.array(X_test))\n",
    "\n",
    "y_train_scaled = Target_scaler.fit_transform(np.array(y_train).reshape(-1,1))\n",
    "y_valid_scaled = Target_scaler.fit_transform(np.array(y_valid).reshape(-1,1))\n",
    "y_test_scaled = Target_scaler.fit_transform(np.array(y_test).reshape(-1,1))"
   ]
  },
  {
   "cell_type": "code",
   "execution_count": 198,
   "id": "aeb9c230",
   "metadata": {},
   "outputs": [],
   "source": [
    "## Training the ANNs"
   ]
  },
  {
   "cell_type": "code",
   "execution_count": 199,
   "id": "508ec481",
   "metadata": {},
   "outputs": [
    {
     "name": "stdout",
     "output_type": "stream",
     "text": [
      "Epoch 1/30\n",
      "154/154 [==============================] - 1s 4ms/step - loss: 0.0239 - val_loss: 0.0083\n",
      "Epoch 2/30\n",
      "154/154 [==============================] - 1s 3ms/step - loss: 0.0081 - val_loss: 0.0059\n",
      "Epoch 3/30\n",
      "154/154 [==============================] - 0s 3ms/step - loss: 0.0056 - val_loss: 0.0048\n",
      "Epoch 4/30\n",
      "154/154 [==============================] - 1s 3ms/step - loss: 0.0038 - val_loss: 0.0036\n",
      "Epoch 5/30\n",
      "154/154 [==============================] - 0s 3ms/step - loss: 0.0032 - val_loss: 0.0031\n",
      "Epoch 6/30\n",
      "154/154 [==============================] - 0s 3ms/step - loss: 0.0024 - val_loss: 0.0021\n",
      "Epoch 7/30\n",
      "154/154 [==============================] - 0s 3ms/step - loss: 0.0024 - val_loss: 0.0020\n",
      "Epoch 8/30\n",
      "154/154 [==============================] - 1s 3ms/step - loss: 0.0019 - val_loss: 0.0020\n",
      "Epoch 9/30\n",
      "154/154 [==============================] - 1s 4ms/step - loss: 0.0017 - val_loss: 0.0014\n",
      "Epoch 10/30\n",
      "154/154 [==============================] - 0s 3ms/step - loss: 0.0017 - val_loss: 8.9209e-04\n",
      "Epoch 11/30\n",
      "154/154 [==============================] - 0s 3ms/step - loss: 0.0016 - val_loss: 0.0010\n",
      "Epoch 12/30\n",
      "154/154 [==============================] - 1s 4ms/step - loss: 0.0014 - val_loss: 7.8211e-04\n",
      "Epoch 13/30\n",
      "154/154 [==============================] - 0s 3ms/step - loss: 0.0014 - val_loss: 5.9977e-04\n",
      "Epoch 14/30\n",
      "154/154 [==============================] - 0s 3ms/step - loss: 0.0013 - val_loss: 9.5210e-04\n",
      "Epoch 15/30\n",
      "154/154 [==============================] - 1s 3ms/step - loss: 0.0012 - val_loss: 3.4442e-04\n",
      "Epoch 16/30\n",
      "154/154 [==============================] - 0s 3ms/step - loss: 0.0012 - val_loss: 5.5385e-04\n",
      "Epoch 17/30\n",
      "154/154 [==============================] - 1s 4ms/step - loss: 0.0011 - val_loss: 3.7578e-04\n",
      "Epoch 18/30\n",
      "154/154 [==============================] - 1s 4ms/step - loss: 9.9061e-04 - val_loss: 3.5584e-04\n",
      "Epoch 19/30\n",
      "154/154 [==============================] - 1s 4ms/step - loss: 0.0010 - val_loss: 4.0945e-04\n",
      "Epoch 20/30\n",
      "154/154 [==============================] - 1s 4ms/step - loss: 8.4834e-04 - val_loss: 9.5477e-04\n",
      "Epoch 21/30\n",
      "154/154 [==============================] - 0s 3ms/step - loss: 9.2723e-04 - val_loss: 6.9823e-04\n",
      "Epoch 22/30\n",
      "154/154 [==============================] - 1s 3ms/step - loss: 8.8488e-04 - val_loss: 2.1671e-04\n",
      "Epoch 23/30\n",
      "154/154 [==============================] - 0s 3ms/step - loss: 8.1294e-04 - val_loss: 3.3576e-04\n",
      "Epoch 24/30\n",
      "154/154 [==============================] - 0s 3ms/step - loss: 8.0950e-04 - val_loss: 1.7906e-04\n",
      "Epoch 25/30\n",
      "154/154 [==============================] - 0s 3ms/step - loss: 6.1714e-04 - val_loss: 2.2276e-04\n",
      "Epoch 26/30\n",
      "154/154 [==============================] - 0s 3ms/step - loss: 6.6698e-04 - val_loss: 1.8060e-04\n",
      "Epoch 27/30\n",
      "154/154 [==============================] - 1s 3ms/step - loss: 6.8253e-04 - val_loss: 1.5894e-04\n",
      "Epoch 28/30\n",
      "154/154 [==============================] - 0s 3ms/step - loss: 5.8914e-04 - val_loss: 2.6478e-04\n",
      "Epoch 29/30\n",
      "154/154 [==============================] - 0s 3ms/step - loss: 5.5631e-04 - val_loss: 3.8166e-04\n",
      "Epoch 30/30\n",
      "154/154 [==============================] - 0s 3ms/step - loss: 5.6935e-04 - val_loss: 2.1448e-04\n",
      "Epoch 1/30\n",
      "154/154 [==============================] - 2s 5ms/step - loss: 0.0153 - val_loss: 0.0061\n",
      "Epoch 2/30\n",
      "154/154 [==============================] - 1s 3ms/step - loss: 0.0038 - val_loss: 0.0036\n",
      "Epoch 3/30\n",
      "154/154 [==============================] - 1s 3ms/step - loss: 0.0022 - val_loss: 0.0037\n",
      "Epoch 4/30\n",
      "154/154 [==============================] - 1s 3ms/step - loss: 0.0019 - val_loss: 6.5767e-04\n",
      "Epoch 5/30\n",
      "154/154 [==============================] - 1s 3ms/step - loss: 0.0016 - val_loss: 5.5976e-04\n",
      "Epoch 6/30\n",
      "154/154 [==============================] - 0s 3ms/step - loss: 0.0015 - val_loss: 7.1844e-04\n",
      "Epoch 7/30\n",
      "154/154 [==============================] - 1s 3ms/step - loss: 0.0015 - val_loss: 8.9089e-04\n",
      "Epoch 8/30\n",
      "154/154 [==============================] - 0s 3ms/step - loss: 0.0015 - val_loss: 5.7615e-04\n",
      "Epoch 9/30\n",
      "154/154 [==============================] - 1s 3ms/step - loss: 0.0015 - val_loss: 5.2071e-04\n",
      "Epoch 10/30\n",
      "154/154 [==============================] - 1s 3ms/step - loss: 0.0013 - val_loss: 5.5896e-04\n",
      "Epoch 11/30\n",
      "154/154 [==============================] - 1s 3ms/step - loss: 0.0012 - val_loss: 5.8894e-04\n",
      "Epoch 12/30\n",
      "154/154 [==============================] - 1s 3ms/step - loss: 0.0012 - val_loss: 6.8089e-04\n",
      "Epoch 13/30\n",
      "154/154 [==============================] - 0s 3ms/step - loss: 0.0011 - val_loss: 5.8980e-04\n",
      "Epoch 14/30\n",
      "154/154 [==============================] - 1s 3ms/step - loss: 0.0011 - val_loss: 5.5091e-04\n",
      "Epoch 15/30\n",
      "154/154 [==============================] - 1s 3ms/step - loss: 9.6557e-04 - val_loss: 4.5228e-04\n",
      "Epoch 16/30\n",
      "154/154 [==============================] - 1s 3ms/step - loss: 0.0010 - val_loss: 9.7544e-04\n",
      "Epoch 17/30\n",
      "154/154 [==============================] - 0s 3ms/step - loss: 8.9236e-04 - val_loss: 5.5013e-04\n",
      "Epoch 18/30\n",
      "154/154 [==============================] - 1s 3ms/step - loss: 7.8252e-04 - val_loss: 4.4090e-04\n",
      "Epoch 19/30\n",
      "154/154 [==============================] - 0s 3ms/step - loss: 8.2420e-04 - val_loss: 5.8199e-04\n",
      "Epoch 20/30\n",
      "154/154 [==============================] - 1s 3ms/step - loss: 7.2938e-04 - val_loss: 6.1313e-04\n",
      "Epoch 21/30\n",
      "154/154 [==============================] - 1s 3ms/step - loss: 7.3349e-04 - val_loss: 3.4397e-04\n",
      "Epoch 22/30\n",
      "154/154 [==============================] - 1s 3ms/step - loss: 6.5189e-04 - val_loss: 0.0010\n",
      "Epoch 23/30\n",
      "154/154 [==============================] - 1s 3ms/step - loss: 6.4260e-04 - val_loss: 5.8106e-04\n",
      "Epoch 24/30\n",
      "154/154 [==============================] - 1s 3ms/step - loss: 6.9512e-04 - val_loss: 7.4288e-04\n",
      "Epoch 25/30\n",
      "154/154 [==============================] - 1s 3ms/step - loss: 5.5339e-04 - val_loss: 5.4807e-04\n",
      "Epoch 26/30\n",
      "154/154 [==============================] - 1s 4ms/step - loss: 5.6962e-04 - val_loss: 5.6946e-04\n",
      "Epoch 27/30\n",
      "154/154 [==============================] - 1s 4ms/step - loss: 5.5387e-04 - val_loss: 8.3585e-04\n",
      "Epoch 28/30\n",
      "154/154 [==============================] - 1s 4ms/step - loss: 5.3690e-04 - val_loss: 6.1402e-04\n",
      "Epoch 29/30\n",
      "154/154 [==============================] - 1s 4ms/step - loss: 4.7658e-04 - val_loss: 0.0013\n",
      "Epoch 30/30\n",
      "154/154 [==============================] - 1s 3ms/step - loss: 4.4112e-04 - val_loss: 5.9557e-04\n",
      "Epoch 1/30\n",
      "154/154 [==============================] - 1s 5ms/step - loss: 0.3055 - val_loss: 0.3035\n",
      "Epoch 2/30\n",
      "154/154 [==============================] - 0s 3ms/step - loss: 0.3063 - val_loss: 0.3035\n",
      "Epoch 3/30\n",
      "154/154 [==============================] - 1s 3ms/step - loss: 0.3063 - val_loss: 0.3035\n",
      "Epoch 4/30\n",
      "154/154 [==============================] - 0s 3ms/step - loss: 0.3063 - val_loss: 0.3035\n",
      "Epoch 5/30\n",
      "154/154 [==============================] - 1s 3ms/step - loss: 0.3063 - val_loss: 0.3035\n",
      "Epoch 6/30\n",
      "154/154 [==============================] - 1s 3ms/step - loss: 0.3063 - val_loss: 0.3035\n",
      "Epoch 7/30\n",
      "154/154 [==============================] - 0s 3ms/step - loss: 0.3063 - val_loss: 0.3035\n",
      "Epoch 8/30\n",
      "154/154 [==============================] - 0s 3ms/step - loss: 0.3063 - val_loss: 0.3035\n",
      "Epoch 9/30\n",
      "154/154 [==============================] - 0s 3ms/step - loss: 0.3063 - val_loss: 0.3035\n",
      "Epoch 10/30\n",
      "154/154 [==============================] - 0s 3ms/step - loss: 0.3063 - val_loss: 0.3035\n",
      "Epoch 11/30\n",
      "154/154 [==============================] - 1s 3ms/step - loss: 0.3063 - val_loss: 0.3035\n",
      "Epoch 12/30\n",
      "154/154 [==============================] - 0s 3ms/step - loss: 0.3063 - val_loss: 0.3035\n",
      "Epoch 13/30\n",
      "154/154 [==============================] - 0s 3ms/step - loss: 0.3063 - val_loss: 0.3035\n",
      "Epoch 14/30\n",
      "154/154 [==============================] - 0s 3ms/step - loss: 0.3063 - val_loss: 0.3035\n",
      "Epoch 15/30\n",
      "154/154 [==============================] - 0s 3ms/step - loss: 0.3063 - val_loss: 0.3035\n",
      "Epoch 16/30\n",
      "154/154 [==============================] - 0s 3ms/step - loss: 0.3063 - val_loss: 0.3035\n",
      "Epoch 17/30\n",
      "154/154 [==============================] - 0s 3ms/step - loss: 0.3063 - val_loss: 0.3035\n",
      "Epoch 18/30\n",
      "154/154 [==============================] - 0s 3ms/step - loss: 0.3063 - val_loss: 0.3035\n",
      "Epoch 19/30\n",
      "154/154 [==============================] - 1s 3ms/step - loss: 0.3063 - val_loss: 0.3035\n",
      "Epoch 20/30\n",
      "154/154 [==============================] - 0s 3ms/step - loss: 0.3063 - val_loss: 0.3035\n",
      "Epoch 21/30\n",
      "154/154 [==============================] - 0s 3ms/step - loss: 0.3063 - val_loss: 0.3035\n",
      "Epoch 22/30\n",
      "154/154 [==============================] - 1s 3ms/step - loss: 0.3063 - val_loss: 0.3035\n",
      "Epoch 23/30\n",
      "154/154 [==============================] - 1s 3ms/step - loss: 0.3063 - val_loss: 0.3035\n",
      "Epoch 24/30\n",
      "154/154 [==============================] - 0s 3ms/step - loss: 0.3063 - val_loss: 0.3035\n",
      "Epoch 25/30\n",
      "154/154 [==============================] - 1s 3ms/step - loss: 0.3063 - val_loss: 0.3035\n",
      "Epoch 26/30\n",
      "154/154 [==============================] - 1s 3ms/step - loss: 0.3063 - val_loss: 0.3035\n",
      "Epoch 27/30\n",
      "154/154 [==============================] - 1s 3ms/step - loss: 0.3063 - val_loss: 0.3035\n",
      "Epoch 28/30\n",
      "154/154 [==============================] - 0s 3ms/step - loss: 0.3063 - val_loss: 0.3035\n",
      "Epoch 29/30\n",
      "154/154 [==============================] - 0s 3ms/step - loss: 0.3063 - val_loss: 0.3035\n",
      "Epoch 30/30\n",
      "154/154 [==============================] - 1s 3ms/step - loss: 0.3063 - val_loss: 0.3035\n"
     ]
    },
    {
     "data": {
      "text/plain": [
       "<keras.callbacks.History at 0x2c588fe7d60>"
      ]
     },
     "execution_count": 199,
     "metadata": {},
     "output_type": "execute_result"
    }
   ],
   "source": [
    "ann1.fit(x=X_train_scaled, y=y_train_scaled, batch_size=5, epochs=30, verbose=1, validation_data=(X_valid_scaled, y_valid_scaled), shuffle=True)\n",
    "ann2.fit(x=X_train_scaled, y=y_train_scaled, batch_size=5, epochs=30, verbose=1, validation_data=(X_valid_scaled, y_valid_scaled), shuffle=True)\n",
    "ann3.fit(x=X_train_scaled, y=y_train_scaled, batch_size=5, epochs=30, verbose=1, validation_data=(X_valid_scaled, y_valid_scaled), shuffle=True)"
   ]
  },
  {
   "cell_type": "code",
   "execution_count": 200,
   "id": "f4d847f2",
   "metadata": {},
   "outputs": [
    {
     "name": "stdout",
     "output_type": "stream",
     "text": [
      "8/8 [==============================] - 0s 2ms/step\n",
      "R-squared score for ANN1: 0.9921\n"
     ]
    }
   ],
   "source": [
    "y_pred = ann1.predict(X_test_scaled)\n",
    "y_pred_rescaled = Target_scaler.inverse_transform(y_pred)\n",
    "\n",
    "y_test_rescaled =  Target_scaler.inverse_transform(y_test_scaled)\n",
    "score = r2_score(y_test_rescaled, y_pred_rescaled)\n",
    "print('R-squared score for ANN1:', round(score,4))"
   ]
  },
  {
   "cell_type": "code",
   "execution_count": 206,
   "id": "0157435b",
   "metadata": {},
   "outputs": [
    {
     "name": "stdout",
     "output_type": "stream",
     "text": [
      "8/8 [==============================] - 0s 2ms/step\n",
      "R-squared score for ANN2: 0.9889\n"
     ]
    }
   ],
   "source": [
    "y_pred2 = ann2.predict(X_test_scaled)\n",
    "y_pred_rescaled2 = Target_scaler.inverse_transform(y_pred2)\n",
    "\n",
    "score = r2_score(y_test_rescaled, y_pred_rescaled2)\n",
    "print('R-squared score for ANN2:', round(score,4))"
   ]
  },
  {
   "cell_type": "code",
   "execution_count": 207,
   "id": "1198f4c5",
   "metadata": {},
   "outputs": [
    {
     "name": "stdout",
     "output_type": "stream",
     "text": [
      "8/8 [==============================] - 0s 951us/step\n",
      "R-squared score for ANN3: -9.683\n"
     ]
    }
   ],
   "source": [
    "y_pred3 = ann3.predict(X_test_scaled)\n",
    "y_pred_rescaled3 = Target_scaler.inverse_transform(y_pred3)\n",
    "\n",
    "score = r2_score(y_test_rescaled, y_pred_rescaled3)\n",
    "print('R-squared score for ANN3:', round(score,4))"
   ]
  },
  {
   "cell_type": "code",
   "execution_count": 213,
   "id": "2e6f3904",
   "metadata": {},
   "outputs": [
    {
     "name": "stdout",
     "output_type": "stream",
     "text": [
      "MSE for ANN1 model: 1.3566050391817845e-06\n",
      "MSE for ANN2 model: 1.9057335515058575e-06\n",
      "MSE for ANN3 model: 0.0018413447254808175\n"
     ]
    }
   ],
   "source": [
    "mse_ann_1 = np.sum(np.power(y_test_rescaled-y_pred_rescaled,2))/len(y_test_rescaled)\n",
    "print('MSE for ANN1 model:', mse_ann_1)\n",
    "mse_ann_2 = np.sum(np.power(y_test_rescaled-y_pred_rescaled2,2))/len(y_test_rescaled)\n",
    "print('MSE for ANN2 model:', mse_ann_2)\n",
    "mse_ann_3 = np.sum(np.power(y_test_rescaled-y_pred_rescaled3,2))/len(y_test_rescaled)\n",
    "print('MSE for ANN3 model:', mse_ann_3)"
   ]
  },
  {
   "cell_type": "code",
   "execution_count": 13,
   "id": "bbe8f776",
   "metadata": {},
   "outputs": [],
   "source": [
    "## ann1 is the best model"
   ]
  },
  {
   "cell_type": "markdown",
   "id": "f38488db",
   "metadata": {},
   "source": [
    "# LSTM Model"
   ]
  },
  {
   "cell_type": "code",
   "execution_count": 14,
   "id": "96ac68eb",
   "metadata": {},
   "outputs": [],
   "source": [
    "# clean the data"
   ]
  },
  {
   "cell_type": "code",
   "execution_count": 15,
   "id": "ee227468",
   "metadata": {},
   "outputs": [],
   "source": [
    "# only use the adj close column\n",
    "adjclose = df.filter(['Adj Close'])\n",
    "\n",
    "# Convert the dataframe to a numpy array to train the LSTM model\n",
    "target = adjclose.values\n",
    "\n",
    "#split into 60% training, 20% validation, 20% testing\n",
    "train_ind = int(len(adjclose)*.6)\n",
    "val_ind = int(len(adjclose)*.2)\n",
    "\n",
    "# Normalizing data before model fitting using MinMaxScaler\n",
    "scaler = MinMaxScaler(feature_range=(0,1))\n",
    "scaled_adjclose = scaler.fit_transform(adjclose)"
   ]
  },
  {
   "cell_type": "code",
   "execution_count": 16,
   "id": "d3ed657e",
   "metadata": {},
   "outputs": [],
   "source": [
    "#train = target[:train_ind]\n",
    "#val = target[train_ind-180:val_ind+train_ind]\n",
    "#test = target[val_ind+train_ind-180:]"
   ]
  },
  {
   "cell_type": "code",
   "execution_count": 17,
   "id": "87ac9d10",
   "metadata": {},
   "outputs": [
    {
     "name": "stdout",
     "output_type": "stream",
     "text": [
      "Number of rows and columns:  (630, 90, 1)\n"
     ]
    }
   ],
   "source": [
    "train = scaled_adjclose[:train_ind  , : ]\n",
    "\n",
    "X_train = []\n",
    "y_train = []\n",
    "for i in range(90, len(train)):\n",
    "    X_train.append(train[i-90:i, 0])\n",
    "    y_train.append(train[i, 0])\n",
    "\n",
    "X_train, y_train = np.array(X_train), np.array(y_train)\n",
    "X_train = np.reshape(X_train, (X_train.shape[0], X_train.shape[1], 1))\n",
    "print('Number of rows and columns: ', X_train.shape)"
   ]
  },
  {
   "cell_type": "code",
   "execution_count": 18,
   "id": "fb8f408d",
   "metadata": {
    "scrolled": true
   },
   "outputs": [
    {
     "name": "stdout",
     "output_type": "stream",
     "text": [
      "Number of rows and columns:  (240, 90, 1)\n"
     ]
    }
   ],
   "source": [
    "val_data = scaled_adjclose[train_ind - 90:train_ind+val_ind  , : ]\n",
    "\n",
    "X_val = []\n",
    "y_val = []\n",
    "for i in range(90, len(val_data)):\n",
    "    X_val.append(val_data[i-90:i, 0])\n",
    "    y_val.append(val_data[i, 0])\n",
    "\n",
    "X_val, y_val = np.array(X_val), np.array(y_val) # converting into numpy sequences to train the LSTM model\n",
    "X_val = np.reshape(X_val, (X_val.shape[0], X_val.shape[1], 1))\n",
    "print('Number of rows and columns: ', X_val.shape)"
   ]
  },
  {
   "cell_type": "code",
   "execution_count": 19,
   "id": "b2a87ffe",
   "metadata": {},
   "outputs": [
    {
     "name": "stdout",
     "output_type": "stream",
     "text": [
      "Number of rows and columns:  (240, 90, 1)\n"
     ]
    }
   ],
   "source": [
    "test = scaled_adjclose[train_ind + val_ind - 90: , : ]\n",
    "\n",
    "X_test = []\n",
    "y_test =  target[val_ind+train_ind: , : ]\n",
    "for i in range(90,len(test)):\n",
    "    X_test.append(test[i-90:i,0])\n",
    "\n",
    "# Convert x_test to a numpy array\n",
    "X_test = np.array(X_test)\n",
    "\n",
    "#Reshape the data into the shape accepted by the LSTM\n",
    "X_test = np.reshape(X_test, (X_test.shape[0],X_test.shape[1],1))\n",
    "print('Number of rows and columns: ', X_test.shape)"
   ]
  },
  {
   "cell_type": "markdown",
   "id": "5ba16ab3",
   "metadata": {},
   "source": [
    "## First LSTM Model"
   ]
  },
  {
   "cell_type": "code",
   "execution_count": 20,
   "id": "ada4c49c",
   "metadata": {},
   "outputs": [
    {
     "name": "stdout",
     "output_type": "stream",
     "text": [
      "Epoch 1/5\n",
      "20/20 [==============================] - 22s 459ms/step - loss: 0.0617 - val_loss: 0.0063\n",
      "Epoch 2/5\n",
      "20/20 [==============================] - 6s 292ms/step - loss: 0.0115 - val_loss: 0.0032\n",
      "Epoch 3/5\n",
      "20/20 [==============================] - 6s 289ms/step - loss: 0.0095 - val_loss: 0.0025\n",
      "Epoch 4/5\n",
      "20/20 [==============================] - 6s 278ms/step - loss: 0.0094 - val_loss: 0.0024\n",
      "Epoch 5/5\n",
      "20/20 [==============================] - 5s 272ms/step - loss: 0.0089 - val_loss: 0.0027\n"
     ]
    },
    {
     "data": {
      "text/plain": [
       "<keras.callbacks.History at 0x2c5e116c910>"
      ]
     },
     "execution_count": 20,
     "metadata": {},
     "output_type": "execute_result"
    }
   ],
   "source": [
    "lstm1 = Sequential()\n",
    "\n",
    "#Adding the first LSTM layer and some Dropout regularisation\n",
    "lstm1.add(LSTM(units = 50, return_sequences = True, input_shape = (X_train.shape[1], 1)))\n",
    "lstm1.add(Dropout(0.2))\n",
    "\n",
    "# Adding a second LSTM layer and some Dropout regularisation\n",
    "lstm1.add(LSTM(units = 50, return_sequences = True))\n",
    "lstm1.add(Dropout(0.2))\n",
    "\n",
    "# Adding a third LSTM layer and some Dropout regularisation\n",
    "lstm1.add(LSTM(units = 50, return_sequences = True))\n",
    "lstm1.add(Dropout(0.2))\n",
    "\n",
    "# Adding a fourth LSTM layer and some Dropout regularisation\n",
    "lstm1.add(LSTM(units = 50))\n",
    "lstm1.add(Dropout(0.2))\n",
    "# Adding the output layer\n",
    "lstm1.add(Dense(units = 1))\n",
    "\n",
    "# Compiling the RNN\n",
    "lstm1.compile(optimizer = 'adam', loss = 'mean_squared_error')\n",
    "\n",
    "# Fitting the RNN to the Training set\n",
    "lstm1.fit(X_train, y_train, epochs = 30, batch_size = 32, validation_data=(X_val, y_val))"
   ]
  },
  {
   "cell_type": "code",
   "execution_count": 21,
   "id": "0e504f4a",
   "metadata": {
    "scrolled": true
   },
   "outputs": [
    {
     "name": "stdout",
     "output_type": "stream",
     "text": [
      "8/8 [==============================] - 4s 86ms/step\n"
     ]
    }
   ],
   "source": [
    "# predictions using the test dataset\n",
    "adjclose_test = lstm1.predict(X_test)\n",
    "adjclose_test = scaler.inverse_transform(adjclose_test)"
   ]
  },
  {
   "cell_type": "code",
   "execution_count": 22,
   "id": "d490f0fe",
   "metadata": {},
   "outputs": [
    {
     "name": "stdout",
     "output_type": "stream",
     "text": [
      "8/8 [==============================] - 1s 84ms/step\n"
     ]
    }
   ],
   "source": [
    "# predictions using the validation dataset\n",
    "adjclose_val = lstm1.predict(X_val)\n",
    "adjclose_val = scaler.inverse_transform(adjclose_val)"
   ]
  },
  {
   "cell_type": "code",
   "execution_count": 23,
   "id": "e7dbfde4",
   "metadata": {},
   "outputs": [],
   "source": [
    "train = adjclose[:train_ind]\n",
    "val = adjclose[train_ind:val_ind+train_ind]\n",
    "test = adjclose[val_ind+train_ind:]"
   ]
  },
  {
   "cell_type": "code",
   "execution_count": 24,
   "id": "828681af",
   "metadata": {},
   "outputs": [
    {
     "name": "stderr",
     "output_type": "stream",
     "text": [
      "C:\\Users\\JackR\\AppData\\Local\\Packages\\PythonSoftwareFoundation.Python.3.9_qbz5n2kfra8p0\\LocalCache\\local-packages\\Python39\\site-packages\\pandas\\core\\indexing.py:1667: SettingWithCopyWarning: \n",
      "A value is trying to be set on a copy of a slice from a DataFrame.\n",
      "Try using .loc[row_indexer,col_indexer] = value instead\n",
      "\n",
      "See the caveats in the documentation: https://pandas.pydata.org/pandas-docs/stable/user_guide/indexing.html#returning-a-view-versus-a-copy\n",
      "  self.obj[key] = value\n",
      "C:\\Users\\JackR\\AppData\\Local\\Packages\\PythonSoftwareFoundation.Python.3.9_qbz5n2kfra8p0\\LocalCache\\local-packages\\Python39\\site-packages\\pandas\\core\\frame.py:5039: SettingWithCopyWarning: \n",
      "A value is trying to be set on a copy of a slice from a DataFrame\n",
      "\n",
      "See the caveats in the documentation: https://pandas.pydata.org/pandas-docs/stable/user_guide/indexing.html#returning-a-view-versus-a-copy\n",
      "  return super().rename(\n"
     ]
    },
    {
     "data": {
      "image/png": "[encoded data removed]",
      "text/plain": [
       "<Figure size 720x360 with 1 Axes>"
      ]
     },
     "metadata": {
      "needs_background": "light"
     },
     "output_type": "display_data"
    }
   ],
   "source": [
    "# Visualising the results\n",
    "val.loc[:,1] = adjclose_val\n",
    "val.rename(columns={1:'Pred'},inplace=True)\n",
    "test.loc[:,1] = adjclose_test\n",
    "test.rename(columns={1:'Pred'},inplace=True)\n",
    "\n",
    "plt.figure(figsize=(10,5))\n",
    "plt.title('Model')\n",
    "plt.xlabel('Date', fontsize=8)\n",
    "plt.ylabel('Adj Close Returns', fontsize=12)\n",
    "plt.plot(train['Adj Close'])\n",
    "plt.plot(val[['Adj Close', 'Pred']])\n",
    "plt.plot(test[['Adj Close', 'Pred']])\n",
    "plt.legend(['Train', 'Val', 'Val_Pred','Test','Test_Pred'], loc='lower right')\n",
    "plt.show()"
   ]
  },
  {
   "cell_type": "code",
   "execution_count": 25,
   "id": "18c6776e",
   "metadata": {},
   "outputs": [
    {
     "name": "stdout",
     "output_type": "stream",
     "text": [
      "R-squared score for the test set: -0.0937\n"
     ]
    }
   ],
   "source": [
    "score = r2_score(test['Adj Close'], test['Pred'])\n",
    "print('R-squared score for the test set:', round(score,4))"
   ]
  },
  {
   "cell_type": "code",
   "execution_count": 26,
   "id": "03a2c22f",
   "metadata": {},
   "outputs": [
    {
     "name": "stdout",
     "output_type": "stream",
     "text": [
      "MSE for LSTM 1 model: 0.0002\n"
     ]
    }
   ],
   "source": [
    "mse_lstm_1 = np.round(np.sum(np.power(test['Adj Close']-test['Pred'],2))/len(test),4)\n",
    "print('MSE for LSTM 1 model:', mse_lstm_1)"
   ]
  },
  {
   "cell_type": "markdown",
   "id": "17b02e2a",
   "metadata": {},
   "source": [
    "## Second LSTM Model"
   ]
  },
  {
   "cell_type": "code",
   "execution_count": 27,
   "id": "4a0ff90e",
   "metadata": {},
   "outputs": [
    {
     "name": "stdout",
     "output_type": "stream",
     "text": [
      "Epoch 1/5\n",
      "40/40 [==============================] - 12s 109ms/step - loss: 0.0451\n",
      "Epoch 2/5\n",
      "40/40 [==============================] - 5s 119ms/step - loss: 0.0147\n",
      "Epoch 3/5\n",
      "40/40 [==============================] - 5s 118ms/step - loss: 0.0123\n",
      "Epoch 4/5\n",
      "40/40 [==============================] - 5s 113ms/step - loss: 0.0112\n",
      "Epoch 5/5\n",
      "40/40 [==============================] - 5s 114ms/step - loss: 0.0103\n"
     ]
    },
    {
     "data": {
      "text/plain": [
       "<keras.callbacks.History at 0x2c5ee1662e0>"
      ]
     },
     "execution_count": 27,
     "metadata": {},
     "output_type": "execute_result"
    }
   ],
   "source": [
    "lstm2= Sequential()\n",
    "\n",
    "#Adding the first LSTM layer and some Dropout regularisation\n",
    "lstm2.add(LSTM(units = 65, return_sequences = True, input_shape = (X_train.shape[1], 1)))\n",
    "lstm2.add(Dropout(0.1))\n",
    "\n",
    "# Adding a second LSTM layer and some Dropout regularisation\n",
    "lstm2.add(LSTM(units = 65, return_sequences = True))\n",
    "lstm2.add(Dropout(0.1))\n",
    "\n",
    "# Adding the output layer\n",
    "lstm2.add(Dense(units = 1))\n",
    "\n",
    "# Compiling the RNN\n",
    "lstm2.compile(optimizer = 'adam', loss = 'mean_squared_error')\n",
    "\n",
    "# Fitting the RNN to the Training set\n",
    "lstm2.fit(X_train, y_train, epochs = 30, batch_size = 16)"
   ]
  },
  {
   "cell_type": "code",
   "execution_count": 28,
   "id": "482e091e",
   "metadata": {
    "scrolled": true
   },
   "outputs": [
    {
     "name": "stdout",
     "output_type": "stream",
     "text": [
      "8/8 [==============================] - 2s 48ms/step\n"
     ]
    }
   ],
   "source": [
    "# predictions using the validation dataset\n",
    "adjclose_val2 = lstm2.predict(X_val)\n",
    "adjclose_val2 = scaler.inverse_transform(adjclose_val)"
   ]
  },
  {
   "cell_type": "code",
   "execution_count": 29,
   "id": "9ee1f3d1",
   "metadata": {},
   "outputs": [
    {
     "name": "stdout",
     "output_type": "stream",
     "text": [
      "8/8 [==============================] - 0s 54ms/step\n"
     ]
    }
   ],
   "source": [
    "# predictions using the test dataset\n",
    "adjclose_test2 = lstm2.predict(X_test)\n",
    "adjclose_test2 = scaler.inverse_transform(adjclose_test)"
   ]
  },
  {
   "cell_type": "code",
   "execution_count": 30,
   "id": "947a162c",
   "metadata": {
    "scrolled": true
   },
   "outputs": [
    {
     "name": "stderr",
     "output_type": "stream",
     "text": [
      "C:\\Users\\JackR\\AppData\\Local\\Packages\\PythonSoftwareFoundation.Python.3.9_qbz5n2kfra8p0\\LocalCache\\local-packages\\Python39\\site-packages\\pandas\\core\\indexing.py:1667: SettingWithCopyWarning: \n",
      "A value is trying to be set on a copy of a slice from a DataFrame.\n",
      "Try using .loc[row_indexer,col_indexer] = value instead\n",
      "\n",
      "See the caveats in the documentation: https://pandas.pydata.org/pandas-docs/stable/user_guide/indexing.html#returning-a-view-versus-a-copy\n",
      "  self.obj[key] = value\n",
      "C:\\Users\\JackR\\AppData\\Local\\Packages\\PythonSoftwareFoundation.Python.3.9_qbz5n2kfra8p0\\LocalCache\\local-packages\\Python39\\site-packages\\pandas\\core\\frame.py:5039: SettingWithCopyWarning: \n",
      "A value is trying to be set on a copy of a slice from a DataFrame\n",
      "\n",
      "See the caveats in the documentation: https://pandas.pydata.org/pandas-docs/stable/user_guide/indexing.html#returning-a-view-versus-a-copy\n",
      "  return super().rename(\n"
     ]
    },
    {
     "data": {
      "image/png": "[encoded data removed]",
      "text/plain": [
       "<Figure size 720x360 with 1 Axes>"
      ]
     },
     "metadata": {
      "needs_background": "light"
     },
     "output_type": "display_data"
    }
   ],
   "source": [
    "# Visualising the results\n",
    "val.loc[:,2] = adjclose_val\n",
    "val.rename(columns={2:'Pred2'},inplace=True)\n",
    "test.loc[:,2] = adjclose_test\n",
    "test.rename(columns={2:'Pred2'},inplace=True)\n",
    "\n",
    "plt.figure(figsize=(10,5))\n",
    "plt.title('Model')\n",
    "plt.xlabel('Date', fontsize=8)\n",
    "plt.ylabel('Adj Close Returns', fontsize=12)\n",
    "plt.plot(train['Adj Close'])\n",
    "plt.plot(val[['Adj Close', 'Pred2']])\n",
    "plt.plot(test[['Adj Close', 'Pred2']])\n",
    "plt.legend(['Train', 'Val', 'Val_Pred','Test','Test_Pred'], loc='lower right')\n",
    "plt.show()"
   ]
  },
  {
   "cell_type": "code",
   "execution_count": 31,
   "id": "50c9fa8c",
   "metadata": {},
   "outputs": [
    {
     "name": "stdout",
     "output_type": "stream",
     "text": [
      "R-squared score for the test set: -0.0937\n"
     ]
    }
   ],
   "source": [
    "score = r2_score(test['Adj Close'], test['Pred2'])\n",
    "print('R-squared score for the test set:', round(score,4))"
   ]
  },
  {
   "cell_type": "code",
   "execution_count": 32,
   "id": "c0de5360",
   "metadata": {},
   "outputs": [
    {
     "name": "stdout",
     "output_type": "stream",
     "text": [
      "MSE for LSTM 2 model: 0.0002\n"
     ]
    }
   ],
   "source": [
    "mse_lstm_2 = np.sum(np.power(test['Adj Close']-test['Pred2'],2))/len(test)\n",
    "print('MSE for LSTM 2 model:', np.round(mse_lstm_2,4))"
   ]
  },
  {
   "cell_type": "markdown",
   "id": "a667199b",
   "metadata": {},
   "source": [
    "# CNN Model"
   ]
  },
  {
   "cell_type": "code",
   "execution_count": 33,
   "id": "82d413fa",
   "metadata": {},
   "outputs": [],
   "source": [
    "train = df[:train_ind]\n",
    "val = df[train_ind-10: val_ind+train_ind]\n",
    "test = df[val_ind+train_ind-10:]"
   ]
  },
  {
   "cell_type": "code",
   "execution_count": 34,
   "id": "f0e37ab4",
   "metadata": {},
   "outputs": [],
   "source": [
    "# Normalizing data before model fitting using MinMaxScaler\n",
    "scaler_train = MinMaxScaler(feature_range=(0,1))\n",
    "scaled_train = scaler_train.fit_transform(train)\n",
    "\n",
    "scaler_val = MinMaxScaler(feature_range=(0,1))\n",
    "scaled_val = scaler_val.fit_transform(val)\n",
    "\n",
    "scaler_test = MinMaxScaler(feature_range=(0,1))\n",
    "scaled_test = scaler_test.fit_transform(test)"
   ]
  },
  {
   "cell_type": "code",
   "execution_count": 35,
   "id": "d4ee2909",
   "metadata": {},
   "outputs": [],
   "source": [
    "scaled_train = train.values\n",
    "\n",
    "scaled_val = val.values\n",
    "\n",
    "scaled_test = test.values"
   ]
  },
  {
   "cell_type": "code",
   "execution_count": 36,
   "id": "05a23ee6",
   "metadata": {},
   "outputs": [],
   "source": [
    "#train_0 = train.reshape(int(train.shape[0]/10),10,-1)\n",
    "#train_0.shape"
   ]
  },
  {
   "cell_type": "code",
   "execution_count": 37,
   "id": "9ab88a64",
   "metadata": {},
   "outputs": [
    {
     "name": "stdout",
     "output_type": "stream",
     "text": [
      "Number of rows and columns:  (710, 10, 4)\n"
     ]
    }
   ],
   "source": [
    "X_scaled_train = []\n",
    "y_scaled_train = []\n",
    "for i in range(10, len(scaled_train)):\n",
    "    X_scaled_train.append(scaled_train[i-10:i, 0:4])\n",
    "    y_scaled_train.append(scaled_train[i, -1])\n",
    "\n",
    "X_train, y_train = np.array(X_scaled_train), np.array(y_scaled_train)\n",
    "#X_scaled_train = np.reshape(X_scaled_train, (int(X_scaled_train.shape[0]/10), X_scaled_train.shape[1], 1))\n",
    "print('Number of rows and columns: ', X_train.shape)"
   ]
  },
  {
   "cell_type": "code",
   "execution_count": 38,
   "id": "a4effc41",
   "metadata": {},
   "outputs": [
    {
     "name": "stdout",
     "output_type": "stream",
     "text": [
      "Number of rows and columns:  (240, 10, 4)\n"
     ]
    }
   ],
   "source": [
    "X_scaled_val= []\n",
    "y_scaled_val = []\n",
    "for i in range(10, len(scaled_val)):\n",
    "    X_scaled_val.append(scaled_val[i-10:i, 0:4])\n",
    "    y_scaled_val.append(scaled_val[i, -1])\n",
    "\n",
    "X_val, y_val = np.array(X_scaled_val), np.array(y_scaled_val)\n",
    "#X_train = np.reshape(X_train, (int(X_train.shape[0]/10), X_train.shape[1], 1))\n",
    "print('Number of rows and columns: ', X_val.shape)"
   ]
  },
  {
   "cell_type": "code",
   "execution_count": 39,
   "id": "7f287beb",
   "metadata": {},
   "outputs": [
    {
     "name": "stdout",
     "output_type": "stream",
     "text": [
      "Number of rows and columns:  (240, 10, 4)\n"
     ]
    }
   ],
   "source": [
    "X_scaled_test= []\n",
    "y_scaled_test = []\n",
    "for i in range(10, len(scaled_test)):\n",
    "    X_scaled_test.append(scaled_test[i-10:i, 0:4])\n",
    "    y_scaled_test.append(scaled_test[i, -1])\n",
    "\n",
    "X_test, y_test = np.array(X_scaled_test), np.array(y_scaled_test)\n",
    "#X_train = np.reshape(X_train, (int(X_train.shape[0]/10), X_train.shape[1], 1))\n",
    "print('Number of rows and columns: ', X_test.shape)"
   ]
  },
  {
   "cell_type": "markdown",
   "id": "54a68694",
   "metadata": {},
   "source": []
  },
  {
   "cell_type": "code",
   "execution_count": 40,
   "id": "e685be32",
   "metadata": {},
   "outputs": [],
   "source": [
    "## CNN 1\n",
    "input_layer = Input(shape=((10,4,1)), dtype='float32')\n",
    "dense1 = Conv2D(32, kernel_size = 3, activation='relu')(input_layer)\n",
    "#dense2 = Conv2D(32, kernel_size = 3, activation='tanh')(dense1)\n",
    "flat = Flatten()(dense1)\n",
    "output_layer = Dense(1, activation='linear')(flat)\n",
    "\n",
    "cnn1 = Model(inputs=input_layer, outputs=output_layer)\n",
    "cnn1.compile(loss='mean_squared_error', optimizer='adam')\n",
    "\n",
    "## CNN 2\n",
    "input_layer2 = Input(shape=((10,4,1)), dtype='float32')\n",
    "dense2 = Conv2D(64, kernel_size = 3, activation='tanh')(input_layer2)\n",
    "flat2 = Flatten()(dense2)\n",
    "output_layer2 = Dense(1, activation='sigmoid')(flat2)\n",
    "\n",
    "cnn2 = Model(inputs=input_layer2, outputs=output_layer2)\n",
    "cnn2.compile(loss='mean_squared_error', optimizer='adam')\n",
    "\n",
    "## CNN 3\n",
    "input_layer3 = Input(shape=((10,4,1)), dtype='float32')\n",
    "dense3 = Conv2D(16, kernel_size = 3, activation='tanh')(input_layer3)\n",
    "flat3 = Flatten()(dense3)\n",
    "output_layer3 = Dense(1, activation='sigmoid')(flat3)\n",
    "\n",
    "cnn3 = Model(inputs=input_layer3, outputs=output_layer3)\n",
    "cnn3.compile(loss='mean_squared_error', optimizer='adam')"
   ]
  },
  {
   "cell_type": "code",
   "execution_count": 41,
   "id": "2d07c3c9",
   "metadata": {
    "scrolled": true
   },
   "outputs": [
    {
     "name": "stdout",
     "output_type": "stream",
     "text": [
      "Epoch 1/30\n",
      "142/142 [==============================] - 1s 4ms/step - loss: 2.0962e-04 - val_loss: 8.8096e-05\n",
      "Epoch 2/30\n",
      "142/142 [==============================] - 0s 3ms/step - loss: 1.8999e-04 - val_loss: 9.3338e-05\n",
      "Epoch 3/30\n",
      "142/142 [==============================] - 0s 3ms/step - loss: 1.7285e-04 - val_loss: 9.6207e-05\n",
      "Epoch 4/30\n",
      "142/142 [==============================] - 1s 4ms/step - loss: 1.6734e-04 - val_loss: 8.9584e-05\n",
      "Epoch 5/30\n",
      "142/142 [==============================] - 0s 3ms/step - loss: 1.6624e-04 - val_loss: 9.3245e-05\n",
      "Epoch 6/30\n",
      "142/142 [==============================] - 1s 4ms/step - loss: 1.6021e-04 - val_loss: 9.5193e-05\n",
      "Epoch 7/30\n",
      "142/142 [==============================] - 1s 4ms/step - loss: 1.5256e-04 - val_loss: 9.0807e-05\n",
      "Epoch 8/30\n",
      "142/142 [==============================] - 1s 4ms/step - loss: 1.4690e-04 - val_loss: 8.6006e-05\n",
      "Epoch 9/30\n",
      "142/142 [==============================] - 0s 3ms/step - loss: 1.4459e-04 - val_loss: 8.8155e-05\n",
      "Epoch 10/30\n",
      "142/142 [==============================] - 0s 3ms/step - loss: 1.3572e-04 - val_loss: 8.7617e-05\n",
      "Epoch 11/30\n",
      "142/142 [==============================] - 0s 3ms/step - loss: 1.3947e-04 - val_loss: 8.7591e-05\n",
      "Epoch 12/30\n",
      "142/142 [==============================] - 0s 3ms/step - loss: 1.2804e-04 - val_loss: 9.2710e-05\n",
      "Epoch 13/30\n",
      "142/142 [==============================] - 0s 3ms/step - loss: 1.2352e-04 - val_loss: 9.5275e-05\n",
      "Epoch 14/30\n",
      "142/142 [==============================] - 0s 3ms/step - loss: 1.2244e-04 - val_loss: 8.9010e-05\n",
      "Epoch 15/30\n",
      "142/142 [==============================] - 0s 3ms/step - loss: 1.1790e-04 - val_loss: 8.8127e-05\n",
      "Epoch 16/30\n",
      "142/142 [==============================] - 0s 3ms/step - loss: 1.1473e-04 - val_loss: 9.2939e-05\n",
      "Epoch 17/30\n",
      "142/142 [==============================] - 0s 3ms/step - loss: 1.1509e-04 - val_loss: 8.7493e-05\n",
      "Epoch 18/30\n",
      "142/142 [==============================] - 0s 3ms/step - loss: 1.1320e-04 - val_loss: 8.7131e-05\n",
      "Epoch 19/30\n",
      "142/142 [==============================] - 0s 3ms/step - loss: 1.1178e-04 - val_loss: 9.3534e-05\n",
      "Epoch 20/30\n",
      "142/142 [==============================] - 0s 3ms/step - loss: 1.0803e-04 - val_loss: 1.0140e-04\n",
      "Epoch 21/30\n",
      "142/142 [==============================] - 0s 3ms/step - loss: 1.0834e-04 - val_loss: 8.6804e-05\n",
      "Epoch 22/30\n",
      "142/142 [==============================] - 0s 3ms/step - loss: 1.0380e-04 - val_loss: 8.8402e-05\n",
      "Epoch 23/30\n",
      "142/142 [==============================] - 1s 4ms/step - loss: 1.0337e-04 - val_loss: 8.9301e-05\n",
      "Epoch 24/30\n",
      "142/142 [==============================] - 0s 3ms/step - loss: 1.0252e-04 - val_loss: 8.9007e-05\n",
      "Epoch 25/30\n",
      "142/142 [==============================] - 0s 3ms/step - loss: 1.0044e-04 - val_loss: 9.3460e-05\n",
      "Epoch 26/30\n",
      "142/142 [==============================] - 0s 3ms/step - loss: 9.9566e-05 - val_loss: 8.9759e-05\n",
      "Epoch 27/30\n",
      "142/142 [==============================] - 0s 3ms/step - loss: 9.9624e-05 - val_loss: 8.8296e-05\n",
      "Epoch 28/30\n",
      "142/142 [==============================] - 0s 3ms/step - loss: 9.6731e-05 - val_loss: 1.0548e-04\n",
      "Epoch 29/30\n",
      "142/142 [==============================] - 0s 3ms/step - loss: 1.0016e-04 - val_loss: 8.7358e-05\n",
      "Epoch 30/30\n",
      "142/142 [==============================] - 0s 3ms/step - loss: 9.7169e-05 - val_loss: 9.3430e-05\n",
      "Epoch 1/30\n",
      "142/142 [==============================] - 1s 5ms/step - loss: 0.0370 - val_loss: 5.0862e-04\n",
      "Epoch 2/30\n",
      "142/142 [==============================] - 0s 3ms/step - loss: 4.6566e-04 - val_loss: 2.2459e-04\n",
      "Epoch 3/30\n",
      "142/142 [==============================] - 0s 3ms/step - loss: 3.1136e-04 - val_loss: 1.5435e-04\n",
      "Epoch 4/30\n",
      "142/142 [==============================] - 0s 3ms/step - loss: 2.6278e-04 - val_loss: 1.2614e-04\n",
      "Epoch 5/30\n",
      "142/142 [==============================] - 0s 3ms/step - loss: 2.4110e-04 - val_loss: 1.1293e-04\n",
      "Epoch 6/30\n",
      "142/142 [==============================] - 0s 3ms/step - loss: 2.2954e-04 - val_loss: 1.0522e-04\n",
      "Epoch 7/30\n",
      "142/142 [==============================] - 0s 3ms/step - loss: 2.2255e-04 - val_loss: 1.0027e-04\n",
      "Epoch 8/30\n",
      "142/142 [==============================] - 0s 3ms/step - loss: 2.1808e-04 - val_loss: 9.7324e-05\n",
      "Epoch 9/30\n",
      "142/142 [==============================] - 1s 4ms/step - loss: 2.1502e-04 - val_loss: 9.5259e-05\n",
      "Epoch 10/30\n",
      "142/142 [==============================] - 0s 3ms/step - loss: 2.1284e-04 - val_loss: 9.3722e-05\n",
      "Epoch 11/30\n",
      "142/142 [==============================] - 0s 3ms/step - loss: 2.1120e-04 - val_loss: 9.2661e-05\n",
      "Epoch 12/30\n",
      "142/142 [==============================] - 0s 3ms/step - loss: 2.0997e-04 - val_loss: 9.1851e-05\n",
      "Epoch 13/30\n",
      "142/142 [==============================] - 0s 3ms/step - loss: 2.0901e-04 - val_loss: 9.1203e-05\n",
      "Epoch 14/30\n",
      "142/142 [==============================] - 0s 3ms/step - loss: 2.0829e-04 - val_loss: 9.0697e-05\n",
      "Epoch 15/30\n",
      "142/142 [==============================] - 0s 3ms/step - loss: 2.0772e-04 - val_loss: 9.0414e-05\n",
      "Epoch 16/30\n",
      "142/142 [==============================] - 0s 3ms/step - loss: 2.0724e-04 - val_loss: 9.0102e-05\n",
      "Epoch 17/30\n",
      "142/142 [==============================] - 0s 3ms/step - loss: 2.0685e-04 - val_loss: 8.9877e-05\n",
      "Epoch 18/30\n",
      "142/142 [==============================] - 1s 4ms/step - loss: 2.0652e-04 - val_loss: 8.9727e-05\n",
      "Epoch 19/30\n",
      "142/142 [==============================] - 1s 4ms/step - loss: 2.0625e-04 - val_loss: 8.9583e-05\n",
      "Epoch 20/30\n",
      "142/142 [==============================] - 1s 4ms/step - loss: 2.0602e-04 - val_loss: 8.9456e-05\n",
      "Epoch 21/30\n",
      "142/142 [==============================] - 0s 3ms/step - loss: 2.0582e-04 - val_loss: 8.9362e-05\n",
      "Epoch 22/30\n",
      "142/142 [==============================] - 0s 3ms/step - loss: 2.0567e-04 - val_loss: 8.9300e-05\n",
      "Epoch 23/30\n",
      "142/142 [==============================] - 0s 3ms/step - loss: 2.0552e-04 - val_loss: 8.9241e-05\n",
      "Epoch 24/30\n",
      "142/142 [==============================] - 0s 3ms/step - loss: 2.0540e-04 - val_loss: 8.9198e-05\n",
      "Epoch 25/30\n",
      "142/142 [==============================] - 0s 3ms/step - loss: 2.0531e-04 - val_loss: 8.9164e-05\n",
      "Epoch 26/30\n",
      "142/142 [==============================] - 0s 3ms/step - loss: 2.0523e-04 - val_loss: 8.9146e-05\n",
      "Epoch 27/30\n",
      "142/142 [==============================] - 0s 3ms/step - loss: 2.0514e-04 - val_loss: 8.9129e-05\n",
      "Epoch 28/30\n",
      "142/142 [==============================] - 0s 3ms/step - loss: 2.0510e-04 - val_loss: 8.9114e-05\n",
      "Epoch 29/30\n",
      "142/142 [==============================] - 0s 3ms/step - loss: 2.0502e-04 - val_loss: 8.9107e-05\n",
      "Epoch 30/30\n",
      "142/142 [==============================] - 0s 3ms/step - loss: 2.0497e-04 - val_loss: 8.9104e-05\n",
      "Epoch 1/30\n",
      "142/142 [==============================] - 1s 5ms/step - loss: 0.0715 - val_loss: 0.0025\n",
      "Epoch 2/30\n",
      "142/142 [==============================] - 1s 4ms/step - loss: 0.0014 - val_loss: 6.6619e-04\n",
      "Epoch 3/30\n",
      "142/142 [==============================] - 1s 4ms/step - loss: 6.1454e-04 - val_loss: 3.5008e-04\n",
      "Epoch 4/30\n",
      "142/142 [==============================] - 0s 3ms/step - loss: 4.1619e-04 - val_loss: 2.3613e-04\n",
      "Epoch 5/30\n",
      "142/142 [==============================] - 1s 4ms/step - loss: 3.3454e-04 - val_loss: 1.8222e-04\n",
      "Epoch 6/30\n",
      "142/142 [==============================] - 1s 4ms/step - loss: 2.9230e-04 - val_loss: 1.5349e-04\n",
      "Epoch 7/30\n",
      "142/142 [==============================] - 0s 3ms/step - loss: 2.6778e-04 - val_loss: 1.3532e-04\n",
      "Epoch 8/30\n",
      "142/142 [==============================] - 0s 2ms/step - loss: 2.5205e-04 - val_loss: 1.2376e-04\n",
      "Epoch 9/30\n",
      "142/142 [==============================] - 0s 2ms/step - loss: 2.4131e-04 - val_loss: 1.1564e-04\n",
      "Epoch 10/30\n",
      "142/142 [==============================] - 1s 4ms/step - loss: 2.3373e-04 - val_loss: 1.0987e-04\n",
      "Epoch 11/30\n",
      "142/142 [==============================] - 1s 4ms/step - loss: 2.2810e-04 - val_loss: 1.0570e-04\n",
      "Epoch 12/30\n",
      "142/142 [==============================] - 1s 4ms/step - loss: 2.2390e-04 - val_loss: 1.0252e-04\n",
      "Epoch 13/30\n",
      "142/142 [==============================] - 1s 4ms/step - loss: 2.2062e-04 - val_loss: 1.0002e-04\n",
      "Epoch 14/30\n",
      "142/142 [==============================] - 1s 4ms/step - loss: 2.1807e-04 - val_loss: 9.7981e-05\n",
      "Epoch 15/30\n",
      "142/142 [==============================] - 1s 4ms/step - loss: 2.1600e-04 - val_loss: 9.6434e-05\n",
      "Epoch 16/30\n",
      "142/142 [==============================] - 1s 4ms/step - loss: 2.1433e-04 - val_loss: 9.5202e-05\n",
      "Epoch 17/30\n",
      "142/142 [==============================] - 1s 4ms/step - loss: 2.1296e-04 - val_loss: 9.4166e-05\n",
      "Epoch 18/30\n",
      "142/142 [==============================] - 1s 4ms/step - loss: 2.1180e-04 - val_loss: 9.3349e-05\n",
      "Epoch 19/30\n",
      "142/142 [==============================] - 1s 4ms/step - loss: 2.1085e-04 - val_loss: 9.2653e-05\n",
      "Epoch 20/30\n",
      "142/142 [==============================] - 1s 4ms/step - loss: 2.1004e-04 - val_loss: 9.2068e-05\n",
      "Epoch 21/30\n",
      "142/142 [==============================] - 1s 4ms/step - loss: 2.0936e-04 - val_loss: 9.1628e-05\n",
      "Epoch 22/30\n",
      "142/142 [==============================] - 1s 4ms/step - loss: 2.0878e-04 - val_loss: 9.1196e-05\n",
      "Epoch 23/30\n",
      "142/142 [==============================] - 1s 4ms/step - loss: 2.0828e-04 - val_loss: 9.0854e-05\n",
      "Epoch 24/30\n",
      "142/142 [==============================] - 1s 4ms/step - loss: 2.0784e-04 - val_loss: 9.0585e-05\n",
      "Epoch 25/30\n",
      "142/142 [==============================] - 1s 4ms/step - loss: 2.0747e-04 - val_loss: 9.0342e-05\n",
      "Epoch 26/30\n",
      "142/142 [==============================] - 1s 4ms/step - loss: 2.0715e-04 - val_loss: 9.0139e-05\n",
      "Epoch 27/30\n",
      "142/142 [==============================] - 1s 4ms/step - loss: 2.0686e-04 - val_loss: 8.9967e-05\n",
      "Epoch 28/30\n",
      "142/142 [==============================] - 1s 4ms/step - loss: 2.0661e-04 - val_loss: 8.9824e-05\n",
      "Epoch 29/30\n",
      "142/142 [==============================] - 1s 4ms/step - loss: 2.0639e-04 - val_loss: 8.9694e-05\n",
      "Epoch 30/30\n",
      "142/142 [==============================] - 1s 4ms/step - loss: 2.0619e-04 - val_loss: 8.9595e-05\n"
     ]
    },
    {
     "data": {
      "text/plain": [
       "<keras.callbacks.History at 0x2c5f3311f70>"
      ]
     },
     "execution_count": 41,
     "metadata": {},
     "output_type": "execute_result"
    }
   ],
   "source": [
    "cnn1.fit(x=X_train, y=y_train, batch_size=5, epochs=30, verbose=1, validation_data=(X_val, y_val), shuffle=True)\n",
    "cnn2.fit(x=X_train, y=y_train, batch_size=5, epochs=30, verbose=1, validation_data=(X_val, y_val), shuffle=True)\n",
    "cnn3.fit(x=X_train, y=y_train, batch_size=5, epochs=30, verbose=1, validation_data=(X_val, y_val), shuffle=True)"
   ]
  },
  {
   "cell_type": "code",
   "execution_count": 189,
   "id": "6726a9f8",
   "metadata": {},
   "outputs": [
    {
     "name": "stdout",
     "output_type": "stream",
     "text": [
      "8/8 [==============================] - 0s 3ms/step\n",
      "8/8 [==============================] - 0s 3ms/step\n",
      "8/8 [==============================] - 0s 2ms/step\n",
      "R-squared score for the CNN1: -0.1627\n",
      "R-squared score for the CNN2: -0.0104\n",
      "R-squared score for the CNN3: -0.0229\n",
      "MSE for CNN1 model: 0.0469\n",
      "MSE for CNN2 model: 0.0418\n",
      "MSE for CNN3 model: 0.0423\n"
     ]
    }
   ],
   "source": [
    "cnn_y_pred1 = cnn1.predict(X_test)\n",
    "cnn_y_pred2 = cnn2.predict(X_test)\n",
    "cnn_y_pred3 = cnn3.predict(X_test)\n",
    "#y_pred1_rescaled = scaler_test.inverse_transform(y_pred1)\n",
    "\n",
    "#y_test_rescaled =  scaler_test.inverse_transform(y_test)\n",
    "score1 = r2_score(y_test, cnn_y_pred1)\n",
    "score2 = r2_score(y_test, cnn_y_pred2)\n",
    "score3 = r2_score(y_test, cnn_y_pred3)\n",
    "print('R-squared score for the CNN1:', round(score1,4))\n",
    "print('R-squared score for the CNN2:', round(score2,4))\n",
    "print('R-squared score for the CNN3:', round(score3,4))\n",
    "\n",
    "mse_cnn_1 = np.sum(np.power(y_test-cnn_y_pred1,2))/len(y_test)\n",
    "mse_cnn_2 = np.sum(np.power(y_test-cnn_y_pred2,2))/len(y_test)\n",
    "mse_cnn_3 = np.sum(np.power(y_test-cnn_y_pred3,2))/len(y_test)\n",
    "print('MSE for CNN1 model:', np.round(mse_cnn_1,4))\n",
    "print('MSE for CNN2 model:', np.round(mse_cnn_2,4))\n",
    "print('MSE for CNN3 model:', np.round(mse_cnn_3,4))"
   ]
  },
  {
   "cell_type": "markdown",
   "id": "443623eb",
   "metadata": {},
   "source": [
    "# ARMA Model"
   ]
  },
  {
   "cell_type": "code",
   "execution_count": 86,
   "id": "24c679ce",
   "metadata": {},
   "outputs": [],
   "source": [
    "train = df[:train_ind]\n",
    "test = df[train_ind:]"
   ]
  },
  {
   "cell_type": "code",
   "execution_count": 108,
   "id": "9afb2b39",
   "metadata": {
    "scrolled": true
   },
   "outputs": [
    {
     "name": "stderr",
     "output_type": "stream",
     "text": [
      "C:\\Users\\JackR\\AppData\\Local\\Packages\\PythonSoftwareFoundation.Python.3.9_qbz5n2kfra8p0\\LocalCache\\local-packages\\Python39\\site-packages\\statsmodels\\tsa\\base\\tsa_model.py:471: ValueWarning: A date index has been provided, but it has no associated frequency information and so will be ignored when e.g. forecasting.\n",
      "  self._init_dates(dates, freq)\n",
      "C:\\Users\\JackR\\AppData\\Local\\Packages\\PythonSoftwareFoundation.Python.3.9_qbz5n2kfra8p0\\LocalCache\\local-packages\\Python39\\site-packages\\statsmodels\\tsa\\base\\tsa_model.py:471: ValueWarning: A date index has been provided, but it has no associated frequency information and so will be ignored when e.g. forecasting.\n",
      "  self._init_dates(dates, freq)\n",
      "C:\\Users\\JackR\\AppData\\Local\\Packages\\PythonSoftwareFoundation.Python.3.9_qbz5n2kfra8p0\\LocalCache\\local-packages\\Python39\\site-packages\\statsmodels\\tsa\\base\\tsa_model.py:471: ValueWarning: A date index has been provided, but it has no associated frequency information and so will be ignored when e.g. forecasting.\n",
      "  self._init_dates(dates, freq)\n",
      "C:\\Users\\JackR\\AppData\\Local\\Packages\\PythonSoftwareFoundation.Python.3.9_qbz5n2kfra8p0\\LocalCache\\local-packages\\Python39\\site-packages\\statsmodels\\base\\model.py:604: ConvergenceWarning: Maximum Likelihood optimization failed to converge. Check mle_retvals\n",
      "  warnings.warn(\"Maximum Likelihood optimization failed to \"\n",
      "C:\\Users\\JackR\\AppData\\Local\\Packages\\PythonSoftwareFoundation.Python.3.9_qbz5n2kfra8p0\\LocalCache\\local-packages\\Python39\\site-packages\\statsmodels\\tsa\\base\\tsa_model.py:471: ValueWarning: A date index has been provided, but it has no associated frequency information and so will be ignored when e.g. forecasting.\n",
      "  self._init_dates(dates, freq)\n",
      "C:\\Users\\JackR\\AppData\\Local\\Packages\\PythonSoftwareFoundation.Python.3.9_qbz5n2kfra8p0\\LocalCache\\local-packages\\Python39\\site-packages\\statsmodels\\tsa\\base\\tsa_model.py:471: ValueWarning: A date index has been provided, but it has no associated frequency information and so will be ignored when e.g. forecasting.\n",
      "  self._init_dates(dates, freq)\n",
      "C:\\Users\\JackR\\AppData\\Local\\Packages\\PythonSoftwareFoundation.Python.3.9_qbz5n2kfra8p0\\LocalCache\\local-packages\\Python39\\site-packages\\statsmodels\\tsa\\base\\tsa_model.py:471: ValueWarning: A date index has been provided, but it has no associated frequency information and so will be ignored when e.g. forecasting.\n",
      "  self._init_dates(dates, freq)\n",
      "C:\\Users\\JackR\\AppData\\Local\\Packages\\PythonSoftwareFoundation.Python.3.9_qbz5n2kfra8p0\\LocalCache\\local-packages\\Python39\\site-packages\\statsmodels\\tsa\\statespace\\sarimax.py:966: UserWarning: Non-stationary starting autoregressive parameters found. Using zeros as starting parameters.\n",
      "  warn('Non-stationary starting autoregressive parameters'\n",
      "C:\\Users\\JackR\\AppData\\Local\\Packages\\PythonSoftwareFoundation.Python.3.9_qbz5n2kfra8p0\\LocalCache\\local-packages\\Python39\\site-packages\\statsmodels\\tsa\\statespace\\sarimax.py:978: UserWarning: Non-invertible starting MA parameters found. Using zeros as starting parameters.\n",
      "  warn('Non-invertible starting MA parameters found.'\n",
      "C:\\Users\\JackR\\AppData\\Local\\Packages\\PythonSoftwareFoundation.Python.3.9_qbz5n2kfra8p0\\LocalCache\\local-packages\\Python39\\site-packages\\statsmodels\\base\\model.py:604: ConvergenceWarning: Maximum Likelihood optimization failed to converge. Check mle_retvals\n",
      "  warnings.warn(\"Maximum Likelihood optimization failed to \"\n",
      "C:\\Users\\JackR\\AppData\\Local\\Packages\\PythonSoftwareFoundation.Python.3.9_qbz5n2kfra8p0\\LocalCache\\local-packages\\Python39\\site-packages\\statsmodels\\tsa\\base\\tsa_model.py:471: ValueWarning: A date index has been provided, but it has no associated frequency information and so will be ignored when e.g. forecasting.\n",
      "  self._init_dates(dates, freq)\n",
      "C:\\Users\\JackR\\AppData\\Local\\Packages\\PythonSoftwareFoundation.Python.3.9_qbz5n2kfra8p0\\LocalCache\\local-packages\\Python39\\site-packages\\statsmodels\\tsa\\base\\tsa_model.py:471: ValueWarning: A date index has been provided, but it has no associated frequency information and so will be ignored when e.g. forecasting.\n",
      "  self._init_dates(dates, freq)\n",
      "C:\\Users\\JackR\\AppData\\Local\\Packages\\PythonSoftwareFoundation.Python.3.9_qbz5n2kfra8p0\\LocalCache\\local-packages\\Python39\\site-packages\\statsmodels\\tsa\\base\\tsa_model.py:471: ValueWarning: A date index has been provided, but it has no associated frequency information and so will be ignored when e.g. forecasting.\n",
      "  self._init_dates(dates, freq)\n"
     ]
    }
   ],
   "source": [
    "ARMA1 = ARIMA(train['Adj Close'], order=(5,0,5)) # ARIMA model with d=0 is an ARMA model\n",
    "fitted1 = ARMA1.fit()\n",
    "#print(fitted1.summary())\n",
    "\n",
    "ARMA2 = ARIMA(train['Adj Close'], order=(10,0,10)) # ARIMA model with d=0 is an ARMA model\n",
    "fitted2 = ARMA2.fit()\n",
    "\n",
    "ARMA3 = ARIMA(train['Adj Close'], order=(16,0,2)) # ARIMA model with d=0 is an ARMA model\n",
    "fitted3 = ARMA3.fit()"
   ]
  },
  {
   "cell_type": "code",
   "execution_count": 109,
   "id": "77eb3e9b",
   "metadata": {
    "scrolled": true
   },
   "outputs": [
    {
     "name": "stderr",
     "output_type": "stream",
     "text": [
      "C:\\Users\\JackR\\AppData\\Local\\Packages\\PythonSoftwareFoundation.Python.3.9_qbz5n2kfra8p0\\LocalCache\\local-packages\\Python39\\site-packages\\statsmodels\\tsa\\base\\tsa_model.py:834: ValueWarning: No supported index is available. Prediction results will be given with an integer index beginning at `start`.\n",
      "  return get_prediction_index(\n",
      "C:\\Users\\JackR\\AppData\\Local\\Packages\\PythonSoftwareFoundation.Python.3.9_qbz5n2kfra8p0\\LocalCache\\local-packages\\Python39\\site-packages\\statsmodels\\tsa\\base\\tsa_model.py:834: ValueWarning: No supported index is available. Prediction results will be given with an integer index beginning at `start`.\n",
      "  return get_prediction_index(\n",
      "C:\\Users\\JackR\\AppData\\Local\\Packages\\PythonSoftwareFoundation.Python.3.9_qbz5n2kfra8p0\\LocalCache\\local-packages\\Python39\\site-packages\\statsmodels\\tsa\\base\\tsa_model.py:834: ValueWarning: No supported index is available. Prediction results will be given with an integer index beginning at `start`.\n",
      "  return get_prediction_index(\n"
     ]
    }
   ],
   "source": [
    "fc1 = fitted1.forecast(len(test), alpha=0.05)\n",
    "fc2 = fitted2.forecast(len(test), alpha=0.05)\n",
    "fc3 = fitted3.forecast(len(test), alpha=0.05)"
   ]
  },
  {
   "cell_type": "code",
   "execution_count": 112,
   "id": "c0b94af3",
   "metadata": {},
   "outputs": [
    {
     "data": {
      "image/png": "[encoded data removed]",
      "text/plain": [
       "<Figure size 432x288 with 1 Axes>"
      ]
     },
     "metadata": {
      "needs_background": "light"
     },
     "output_type": "display_data"
    }
   ],
   "source": [
    "predictions = pd.DataFrame({'Adj Close':test['Adj Close'].values,'fc1':fc1.values,'fc2':fc2.values,'fc3':fc3.values}, index=test.index)\n",
    "\n",
    "plt.plot(train['Adj Close'], label='training data')\n",
    "plt.plot(test['Adj Close'], color = 'blue', label='Actual Stock Price')\n",
    "plt.plot(predictions['fc1'], color = 'red',label='Model 1 Predictions')\n",
    "plt.plot(predictions['fc2'], color = 'yellow',label='Model 2 Predictions')\n",
    "plt.plot(predictions['fc3'], color = 'green',label='Model 3 Predictions')\n",
    "plt.xlabel('Year')\n",
    "plt.ylabel('Returns')\n",
    "plt.legend()\n",
    "plt.show()"
   ]
  },
  {
   "cell_type": "code",
   "execution_count": 117,
   "id": "4e539cb8",
   "metadata": {},
   "outputs": [
    {
     "name": "stdout",
     "output_type": "stream",
     "text": [
      "MSE for ARMA 1 model: 0.0001304\n",
      "MSE for ARMA 2 model: 0.0001306\n",
      "MSE for ARMA 3 model: 0.0001307\n"
     ]
    }
   ],
   "source": [
    "mse_arma1 = np.sum(np.power(predictions['Adj Close']-predictions['fc1'],2))/len(predictions)\n",
    "mse_arma2 = np.sum(np.power(predictions['Adj Close']-predictions['fc2'],2))/len(predictions)\n",
    "mse_arma3 = np.sum(np.power(predictions['Adj Close']-predictions['fc3'],2))/len(predictions)\n",
    "print('MSE for ARMA 1 model:', np.round(mse_arma1,7))\n",
    "print('MSE for ARMA 2 model:', np.round(mse_arma2,7))\n",
    "print('MSE for ARMA 3 model:', np.round(mse_arma3,7))"
   ]
  },
  {
   "cell_type": "code",
   "execution_count": 118,
   "id": "e7365d35",
   "metadata": {},
   "outputs": [],
   "source": [
    "# ARMA 1 is best"
   ]
  },
  {
   "cell_type": "markdown",
   "id": "44cf9e87",
   "metadata": {},
   "source": [
    "# Combine LSTM and CNN predictions"
   ]
  },
  {
   "cell_type": "code",
   "execution_count": 158,
   "id": "d7ef497d",
   "metadata": {},
   "outputs": [],
   "source": [
    "# LSTM 1 predictions (The best LSTM model)\n",
    "best_lstm = adjclose_test.reshape(240,)\n",
    "\n",
    "# CNN 2 predictions (The best CNN model)\n",
    "best_cnn = y_pred2.reshape(240,)\n",
    "\n",
    "# real returns\n",
    "adj_close = df['Adj Close'][train_ind+val_ind:]\n",
    "adj_close = adj_close.values"
   ]
  },
  {
   "cell_type": "code",
   "execution_count": 178,
   "id": "32b67ff2",
   "metadata": {},
   "outputs": [],
   "source": [
    "# create formula to optimize the MSE of the two predictions\n",
    "def opt_predictions(alpha,x,y,z):\n",
    "    return np.sum(np.power((alpha*x+(1-alpha)*y)-z,2))/len(x)"
   ]
  },
  {
   "cell_type": "code",
   "execution_count": 181,
   "id": "a5b69381",
   "metadata": {},
   "outputs": [],
   "source": [
    "from scipy.optimize import minimize_scalar\n",
    "\n",
    "# minimize a scaler to assign the optimal weights to each model predictions\n",
    "\n",
    "res = minimize_scalar(opt_predictions,args=(best_lstm, best_cnn, adj_close),bounds=(0,1), method='bounded')\n",
    "\n",
    "alpha = res.x"
   ]
  },
  {
   "cell_type": "code",
   "execution_count": 183,
   "id": "b41c82fe",
   "metadata": {},
   "outputs": [],
   "source": [
    "# reconstruct the predctions with the minimized weight\n",
    "optimal_predictions = alpha*best_lstm + (1-alpha)*best_cnn"
   ]
  },
  {
   "cell_type": "code",
   "execution_count": 190,
   "id": "7213843a",
   "metadata": {},
   "outputs": [],
   "source": [
    "mse_lstm_cnn = np.sum(np.power(adj_close-optimal_predictions,2))/len(adj_close)"
   ]
  },
  {
   "cell_type": "code",
   "execution_count": 187,
   "id": "3f4aca35",
   "metadata": {},
   "outputs": [
    {
     "data": {
      "image/png": "[encoded data removed]",
      "text/plain": [
       "<Figure size 432x288 with 1 Axes>"
      ]
     },
     "metadata": {
      "needs_background": "light"
     },
     "output_type": "display_data"
    }
   ],
   "source": [
    "plt.plot(optimal_predictions)\n",
    "plt.plot(adj_close)\n",
    "plt.legend(['Pred','Adj Close Returns'])\n",
    "plt.show()"
   ]
  },
  {
   "cell_type": "markdown",
   "id": "5ea2e799",
   "metadata": {},
   "source": [
    "# Compare MSEs from all Models"
   ]
  },
  {
   "cell_type": "code",
   "execution_count": 230,
   "id": "d8052ebb",
   "metadata": {},
   "outputs": [
    {
     "name": "stdout",
     "output_type": "stream",
     "text": [
      "MSE ANN1: 1.3566050391817845e-06 **\n",
      "MSE ANN2: 1.9057335515058575e-06\n",
      "MSE ANN3: 0.0018413447254808175\n",
      "MSE LSTM1: 0.0002\n",
      "MSE LSTM2: 0.00018850704006628252\n",
      "MSE CNN1: 0.046923569406082714\n",
      "MSE CNN2: 0.0418116472042392\n",
      "MSE CNN3: 0.042330669216065396\n",
      "MSE ARMA1: 0.0001304353595550436\n",
      "MSE ARMA2: 0.00013055248915818011\n",
      "MSE ARMA3: 0.0001306839299327081\n",
      "MSE LSTM/CNN: 0.00017275080980446797\n",
      "--------------------------------------------------\n",
      "--------------------------------------------------\n",
      " ANN1 is the best performing model (smallest MSE)\n",
      "--------------------------------------------------\n",
      "--------------------------------------------------\n"
     ]
    }
   ],
   "source": [
    "print('MSE ANN1:', mse_ann_1, '**')\n",
    "print('MSE ANN2:', mse_ann_2)\n",
    "print('MSE ANN3:', mse_ann_3)\n",
    "\n",
    "print('MSE LSTM1:', mse_lstm_1)\n",
    "print('MSE LSTM2:', mse_lstm_2)\n",
    "\n",
    "print('MSE CNN1:', mse_cnn_1)\n",
    "print('MSE CNN2:', mse_cnn_2)\n",
    "print('MSE CNN3:', mse_cnn_3)\n",
    "\n",
    "print('MSE ARMA1:', mse_arma1)\n",
    "print('MSE ARMA2:', mse_arma2)\n",
    "print('MSE ARMA3:', mse_arma3)\n",
    "\n",
    "print('MSE LSTM/CNN:', mse_lstm_cnn)\n",
    "print('-'*50)\n",
    "print('-'*50)\n",
    "print(' ANN1 is the best performing model (smallest MSE)')\n",
    "print('-'*50)\n",
    "print('-'*50)"
   ]
  },
  {
   "cell_type": "code",
   "execution_count": null,
   "id": "ea9af859",
   "metadata": {},
   "outputs": [],
   "source": []
  }
 ],
 "metadata": {
  "kernelspec": {
   "display_name": "Python 3 (ipykernel)",
   "language": "python",
   "name": "python3"
  },
  "language_info": {
   "codemirror_mode": {
    "name": "ipython",
    "version": 3
   },
   "file_extension": ".py",
   "mimetype": "text/x-python",
   "name": "python",
   "nbconvert_exporter": "python",
   "pygments_lexer": "ipython3",
   "version": "3.11.0"
  }
 },
 "nbformat": 4,
 "nbformat_minor": 5
}
