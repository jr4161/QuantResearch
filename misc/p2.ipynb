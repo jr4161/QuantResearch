{
 "cells": [
  {
   "cell_type": "code",
   "execution_count": 19,
   "metadata": {
    "scrolled": true
   },
   "outputs": [
    {
     "data": {
      "text/html": [
       "<style>.container { width: 90% !important; }</style>"
      ],
      "text/plain": [
       "<IPython.core.display.HTML object>"
      ]
     },
     "metadata": {},
     "output_type": "display_data"
    }
   ],
   "source": [
    "from IPython.core.display import display, HTML\n",
    "display(HTML(\"<style>.container { width: 90% !important; }</style>\"))"
   ]
  },
  {
   "cell_type": "markdown",
   "metadata": {},
   "source": [
    "### In this project we build models to predict total trading volume in minutes <span style='color:red'>2 through 15</span>, as a function of the trading volume observed in minute <span style='color:red'>1</span>.\n",
    "#### We will use half of the data to train the models, and test using the other half.\n",
    "#### More precisely, we will build the model using the <span style='color:red'>even</span> numbered days, and test on the <span style='color:red'>odd</span> numbered days.\n",
    "\n",
    "#### In order to do this, we will rely on the idea of <span style='color:red'>buckets</span> (i.e., intervals).  We first describe this idea in the context of the trading volume in the first minute.  \n",
    "\n",
    "#### Let $\\alpha$ be the average of the trading volume on minute 1 of the training data, and let $\\delta$ be the standard deviation of that statistic (trading volume on minute 1 of the training data).  Then we split the interval $[\\alpha - \\delta, \\alpha + \\delta)$ into $N$ buckets, where $N$ is an integer to be decided later.  In addition, we will have two other buckets: $[0, \\alpha - \\delta)$  and $[\\alpha + \\delta, +\\infty)$. \n",
    "\n",
    "#### Example:"
   ]
  },
  {
   "cell_type": "code",
   "execution_count": 18,
   "metadata": {},
   "outputs": [
    {
     "name": "stdout",
     "output_type": "stream",
     "text": [
      "bucket 0:  [0, 20000.0 )\n",
      "bucket 1 : [ 20000.0 , 52000.0 )\n",
      "bucket 2 : [ 52000.0 , 84000.0 )\n",
      "bucket 3 : [ 84000.0 , 116000.0 )\n",
      "bucket 4 : [ 116000.0 , 148000.0 )\n",
      "bucket 5 : [ 148000.0 , 180000.0 )\n",
      "bucket 6 : [ 180000.0 , infinity)\n"
     ]
    }
   ],
   "source": [
    "alpha = 1e5\n",
    "delta = 8e4\n",
    "N = 5\n",
    "print('bucket 0:  [0,',alpha-delta,')')\n",
    "spread = (2*delta)/N\n",
    "left = alpha - delta\n",
    "for i in range(N):\n",
    "    print('bucket',i+1,': [',left,',',left + spread,')')\n",
    "    left = left + spread\n",
    "print('bucket',N+1, ': [',alpha+delta,', infinity)')"
   ]
  },
  {
   "cell_type": "markdown",
   "metadata": {},
   "source": [
    "#### We will henceforth use $B_1$ to refer to the following statistic: the  bucket containing the trading volume on minute 1.\n",
    "\n",
    "#### Likewise, we construct M+2 buckets to classify the quantity we want to predict: the trading volume in minutes 2 through 15.  Here, again, the parameter M will be tuned below.  We will use $B_{2,15}$ to refer to the bucket holding the trading volume on minutes 2 through 15."
   ]
  },
  {
   "cell_type": "markdown",
   "metadata": {},
   "source": [
    "### <span style='color:red'>Summary:</span>\n",
    "#### The way we predict is as follows: we <span style='color:red'>observe</span> the bucket occupied by the trading volume on minute 1, and then based on this single observation, we use our model to <span style='color:red'>predict</span> the bucket containing the trading volume on minutes 2 through 15.  \n",
    "#### Next we describe the methodology used to construct the predictive model.\n",
    "\n",
    "#### This is based on the concept of the <span style='color:red'>empirical distribution</span>.  See, e.g.,  https://en.wikipedia.org/wiki/Empirical_distribution_function. \n",
    "#### Borrowing from this source, given $n$ samples $(X_1, X_2, \\ldots, X_n)$ of a random variable, the empirical CDF (cumulative density function) is defined by:\n",
    "$$ F(t) \\ = \\ \\frac{\\text{number of $X_i$ that are $\\le t$}}{n}$$\n",
    "#### Note that if $X$ is an integer-valued random variable, it is easy to compute the average and standard deviation of the empirical distribution. \n",
    "    "
   ]
  },
  {
   "cell_type": "markdown",
   "metadata": {},
   "source": [
    "#### We will use the empirical distribution as follows.  For each value $i = 0, 1, 2, \\ldots, N, N+1$ we will use the training data to build the empirical distribution of $B_{2,15}$ given that $B_{1} = i$.  In other words, we will build an empirical distribution approximation for\n",
    "$$ P(B_{2,15} | B_1 = i), \\quad \\text{for} \\ i = 0, 1, \\ldots, N+1$$"
   ]
  },
  {
   "cell_type": "markdown",
   "metadata": {},
   "source": [
    "### Thus we are building a total of $N+2$ empirical distributions.\n",
    "\n",
    "#### We use this set of distributions as follows.  Consider any day of the testing data.  Suppose that on that day it happens that $B_1 = i$.  Then we predict that $B_{2,15}$ will lie in the bucket given by $E(B_{2,15} | B_1 = i)$ (the expectation could be fractional, but assume it was rounded to the nearest integer).\n",
    "\n",
    "#### If $\\hat B_{2,15}$ is the actual bucket occupied by $B_{2,15}$, the <span style='color:red'><b>error</b></span>  incurred by the prediction is the quantity \n",
    "$$ ( \\hat B_{2,15} - E(B_{2,15} | B_1 = i))^2$$"
   ]
  },
  {
   "cell_type": "markdown",
   "metadata": {},
   "source": [
    "### Task 1: plot the error for each day in the testing data.  Do this for multiple values of $N$ and $M$.\n",
    "### Task 2.  Enumerate all values of $N$ and $M$ between $5$ and $10$ to pick a combination that minimizes the sum of errors over TSLA and NFLX (error for TSLA plus error for NFLX).\n",
    "### Note: we will test your winning combination using a different asset."
   ]
  },
  {
   "cell_type": "code",
   "execution_count": 1,
   "metadata": {},
   "outputs": [],
   "source": [
    "import csv\n",
    "import sys\n",
    "import numpy as np\n",
    "import math\n",
    "import matplotlib.pyplot as plt"
   ]
  },
  {
   "cell_type": "markdown",
   "metadata": {},
   "source": [
    "## Task 1"
   ]
  },
  {
   "cell_type": "code",
   "execution_count": 5,
   "metadata": {},
   "outputs": [],
   "source": [
    "def read_data(filename):\n",
    "    # Read the file\n",
    "    f = open(filename,'r')\n",
    "    csvf = csv.reader(f)\n",
    "    data = list(csvf)\n",
    "    f.close()\n",
    "\n",
    "    # checking the data\n",
    "    data = np.array(data)\n",
    "    string_volume = data[4:,6]\n",
    "    length_checker = np.vectorize(len)  \n",
    "    v_len = length_checker(string_volume)\n",
    "    first0 = np.argmin(v_len)\n",
    "\n",
    "    # check how many days are in data\n",
    "    data = data[4:first0,(0,6)] \n",
    "    data[0,0] = data[1,0]\n",
    "    \n",
    "    # computing the date\n",
    "    a = data[:,0]\n",
    "    a = np.array([x.split(' ') for x in a], dtype=str)\n",
    "    a = a[:,0]\n",
    "    y = np.array([x.split('/') for x in a], dtype=str)\n",
    "    y = y[:,2].astype(int)*10000+y[:,0].astype(int)*100+y[:,1].astype(int)\n",
    "    data = np.insert(data, 2, y, axis=1)\n",
    "\n",
    "    return data\n",
    "\n",
    "def split_data(data):\n",
    "    # take half of the days as traning\n",
    "    days = np.unique(data[:,2],)\n",
    "    days_train = days[:len(days)//2]\n",
    "    days_test  = days[len(days)//2:]\n",
    "    data_train = data[np.isin(data[:,2],days_train),:]\n",
    "    data_test  = data[np.isin(data[:,2],days_test),:]\n",
    "\n",
    "    return data_train,data_test\n",
    "\n",
    "def split_data_even_odd(data): #this splits the data into even and odd times\n",
    "    train = data[::2,]\n",
    "    test = data[1::2,]\n",
    "    return train, test\n",
    "\n",
    "def split_data_even_odd2(data): #this splits the data into even odd days\n",
    "    a = np.frompyfunc(lambda x:x[-2:],1,1)(data[:,2])\n",
    "    b = (a.astype(int)%2).astype(bool)\n",
    "    train = data[np.logical_not(b),:]\n",
    "    test = data[b,:] \n",
    "    return train, test\n",
    "\n",
    "def comp_values(data):\n",
    "    days = np.unique(data[:,2],)  #numberate for unique days\n",
    "    values = np.zeros((len(days),2))\n",
    "    for i in range(len(days)):\n",
    "        day = data[np.isin(data[:,2],days[i]),:] #takes all volumes with same numberate for day i\n",
    "        values[i,0] = day[0,1]\n",
    "        values[i,1] = sum(day[1:15,1].astype(int)) \n",
    "    return values\n",
    "\n",
    "\n",
    "def buckets_parameters(array,z):\n",
    "    alpha = np.mean(array)\n",
    "    delta = np.std(array)\n",
    "    spread = (2*delta)/z\n",
    "\n",
    "    limits =  np.zeros(1)\n",
    "    \n",
    "    lim_ini = alpha-delta \n",
    "    for i in range(z):\n",
    "        if lim_ini>0:\n",
    "            limits = np.append(limits,lim_ini)\n",
    "        lim_ini += spread\n",
    "    limits = np.append(limits,1e20)\n",
    "\n",
    "    return limits\n",
    "\n",
    "def comp_buckets(values, P, col,limits):\n",
    "    d = len(values[:,col])\n",
    "    \n",
    "    l = len(limits)\n",
    "    buckets = np.zeros(d)\n",
    "    for i in range(d):\n",
    "        for j in range(1,l):\n",
    "            if values[i,col] > limits[j]: buckets[i] = j\n",
    "    return buckets\n",
    "\n",
    "def comp_conditional_prob(buckets1,buckets2):\n",
    "    conditional_prob = {key: None for key in np.unique(buckets1)}\n",
    "    for key in conditional_prob:\n",
    "        sum_ = 0\n",
    "        counter = 0\n",
    "        for i in range(len(buckets1)):\n",
    "            if buckets1[i] == key: \n",
    "                sum_ += buckets2[i]\n",
    "                counter += 1\n",
    "        conditional_prob[key] = sum_/counter\n",
    "    return conditional_prob\n",
    "\n",
    "def model_values_test(conditional_prob: dict, test_data):\n",
    "    model_values = np.zeros(len(test_data))\n",
    "    for i in range(len(test_data)):\n",
    "        #return the conditional expected value\n",
    "        #predict it stays in same bucket when no previous data.\n",
    "        model_values[i] = np.around((conditional_prob.get(test_data[i,2],test_data[i,2])).astype(float))\n",
    "    return model_values\n",
    "\n",
    "def compute_error(modeled,test_data):\n",
    "    error = np.zeros(len(modeled))\n",
    "    for i in range(len(modeled)):\n",
    "        error[i] = (modeled[i]-test_data[i,3])**2\n",
    "    return error\n",
    "\n",
    "def train_model(data_train,data_test,N,M):\n",
    "    values_train = comp_values(data_train)\n",
    "    N_limits = buckets_parameters(values_train,N)\n",
    "    M_limits = buckets_parameters(values_train,M)\n",
    "    buckets_N=comp_buckets(values_train, N, 0,N_limits)\n",
    "    buckets_M=comp_buckets(values_train, M, 1,M_limits)\n",
    "    values_train = np.insert(values_train, 2, buckets_N, axis=1)\n",
    "    values_train = np.insert(values_train, 3, buckets_M, axis=1)\n",
    "    conditional_prob = comp_conditional_prob(values_train[:,2],values_train[:,3])\n",
    "        \n",
    "    values_test = comp_values(data_test)\n",
    "    buckets_N=comp_buckets(values_test, N, 0,N_limits)\n",
    "    buckets_M=comp_buckets(values_test, M, 1,M_limits)\n",
    "    values_test = np.insert(values_test, 2, buckets_N, axis=1)\n",
    "    values_test = np.insert(values_test, 3, buckets_M, axis=1)  \n",
    "    return conditional_prob,values_test\n",
    "\n",
    "def errors_over(N,M,data_train,data_test):\n",
    "    errors = np.full((len(N),len(M)), None)\n",
    "\n",
    "    ncounter = 0\n",
    "    for n in N: #N is array of tested N's\n",
    "        mcounter=0\n",
    "        for m in M: #M is array of tested M's\n",
    "            cond_prob,values_test = train_model(data_train,data_test,n,m)\n",
    "            modeled_values = model_values_test(cond_prob, values_test)\n",
    "            errors[ncounter,mcounter] = np.sum(compute_error(modeled_values,values_test))\n",
    "            mcounter+=1\n",
    "        ncounter+=1\n",
    "    return errors\n",
    "\n",
    "N = 5\n",
    "M = 10\n",
    "data = read_data('TSLA.csv')\n",
    "#data_train, data_test = split_data(data)\n",
    "data_train, data_test = split_data_even_odd2(data)\n",
    "values_train = comp_values(data_train)\n",
    "\n",
    "N_limits = buckets_parameters(values_train,N)\n",
    "M_limits = buckets_parameters(values_train,M)\n",
    "buckets_N=comp_buckets(values_train, N, 0,N_limits)\n",
    "buckets_M=comp_buckets(values_train, M, 1,M_limits)\n",
    "\n",
    "values_train = np.insert(values_train, 2, buckets_N, axis=1)\n",
    "values_train = np.insert(values_train, 3, buckets_M, axis=1)\n",
    "#print(values_train)\n",
    "\n",
    "conditional_prob = comp_conditional_prob(values_train[:,2],values_train[:,3])\n",
    "#print(conditional_prob)\n",
    "\n",
    "values_test = comp_values(data_test)\n",
    "buckets_N=comp_buckets(values_test, N, 0,N_limits)\n",
    "buckets_M=comp_buckets(values_test, M, 1,M_limits)\n",
    "values_test = np.insert(values_test, 2, buckets_N, axis=1)\n",
    "values_test = np.insert(values_test, 3, buckets_M, axis=1)\n",
    "\n",
    "modeled_values = model_values_test(conditional_prob, values_test)\n",
    "errors = compute_error(modeled_values,values_test)\n",
    "#print(modeled_values)\n",
    "#print(values_test)\n",
    "#print(errors)\n",
    "\n",
    "Ntest = np.arange(5,16)\n",
    "Mtest = np.arange(5,16)\n",
    "errors = errors_over(Ntest,Mtest,data_train,data_test)\n",
    "#print(errors)"
   ]
  },
  {
   "cell_type": "code",
   "execution_count": 6,
   "metadata": {},
   "outputs": [
    {
     "data": {
      "image/png": "[encoded data removed]",
      "text/plain": [
       "<Figure size 432x288 with 1 Axes>"
      ]
     },
     "metadata": {
      "needs_background": "light"
     },
     "output_type": "display_data"
    }
   ],
   "source": [
    "fig, ax = plt.subplots(subplot_kw={\"projection\": \"3d\"})\n",
    "X, Y = np.meshgrid(Ntest, Mtest)\n",
    "ax.scatter(X,Y,errors.astype(int))\n",
    "plt.show()"
   ]
  },
  {
   "cell_type": "markdown",
   "metadata": {},
   "source": [
    "## Task 2"
   ]
  },
  {
   "cell_type": "code",
   "execution_count": 9,
   "metadata": {},
   "outputs": [
    {
     "name": "stdout",
     "output_type": "stream",
     "text": [
      "[[126.0]\n",
      " [123.0]\n",
      " [120.0]\n",
      " [132.0]\n",
      " [151.0]\n",
      " [160.0]]\n",
      "\n",
      "Minimizing N: 7\n"
     ]
    }
   ],
   "source": [
    "Ntest = np.arange(5,11)\n",
    "Mtest = np.array([5])\n",
    "\n",
    "NFLX_data = read_data('NFLX.csv')\n",
    "TSLA_data = read_data('TSLA.csv')\n",
    "\n",
    "NFLX_data_train, NFLX_data_test = split_data_even_odd2(NFLX_data)\n",
    "TSLA_data_train, TSLA_data_test = split_data_even_odd2(TSLA_data)\n",
    "\n",
    "NFLX_errors = errors_over(Ntest,Mtest,NFLX_data_train,NFLX_data_test)\n",
    "TSLA_errors = errors_over(Ntest,Mtest,TSLA_data_train,TSLA_data_test)\n",
    "\n",
    "print(NFLX_errors+TSLA_errors)\n",
    "print(\"\\nMinimizing N:\",Ntest[np.argmin(NFLX_errors+TSLA_errors)])"
   ]
  },
  {
   "cell_type": "code",
   "execution_count": 10,
   "metadata": {},
   "outputs": [],
   "source": [
    "M = 5\n",
    "\n",
    "NFLX_data = read_data('NFLX.csv')\n",
    "NFLX_RSS = []\n",
    "\n",
    "TSLA_data = read_data('TSLA.csv')\n",
    "TSLA_RSS = []\n",
    "\n",
    "for N in range(5,11):\n",
    "    #NFLX\n",
    "    NFLX_data_train, NFLX_data_test = split_data_even_odd2(NFLX_data)\n",
    "    NFLX_values_train = comp_values(NFLX_data_train)\n",
    "   \n",
    "    NFLX_N_limits = buckets_parameters(NFLX_values_train,N)\n",
    "    NFLX_M_limits = buckets_parameters(NFLX_values_train,M)\n",
    "    NFLX_buckets_N=comp_buckets(NFLX_values_train, N, 0, NFLX_N_limits)\n",
    "    NFLX_buckets_M=comp_buckets(NFLX_values_train, M, 1, NFLX_M_limits)\n",
    "\n",
    "    NFLX_values_train = np.insert(NFLX_values_train, 2, NFLX_buckets_N, axis=1)\n",
    "    NFLX_values_train = np.insert(NFLX_values_train, 3, NFLX_buckets_M, axis=1)\n",
    "\n",
    "    NFLX_conditional_prob = comp_conditional_prob(NFLX_values_train[:,2],NFLX_values_train[:,3])\n",
    "    NFLX_values_test = comp_values(NFLX_data_test)\n",
    "    NFLX_buckets_N=comp_buckets(NFLX_values_test, N, 0, NFLX_N_limits) # There may be in issue here\n",
    "    NFLX_buckets_M=comp_buckets(NFLX_values_test, M, 1, NFLX_M_limits) \n",
    "    NFLX_values_test = np.insert(NFLX_values_test, 2, NFLX_buckets_N, axis=1)\n",
    "    NFLX_values_test = np.insert(NFLX_values_test, 3, NFLX_buckets_M, axis=1)\n",
    "\n",
    "    NFLX_modeled_values = model_values_test(NFLX_conditional_prob, NFLX_values_test)\n",
    "    NFLX_errors = compute_error(NFLX_modeled_values,NFLX_values_test)\n",
    "    \n",
    "    NFLX_RSS += [sum(NFLX_errors)]\n",
    "\n",
    "    #TSLA\n",
    "\n",
    "    TSLA_data_train, TSLA_data_test = split_data_even_odd2(TSLA_data)\n",
    "    TSLA_values_train = comp_values(TSLA_data_train)\n",
    "    TSLA_N_limits = buckets_parameters(TSLA_values_train,N)\n",
    "    TSLA_M_limits = buckets_parameters(TSLA_values_train,M)\n",
    "    TSLA_buckets_N=comp_buckets(TSLA_values_train, N, 0,TSLA_N_limits)\n",
    "    TSLA_buckets_M=comp_buckets(TSLA_values_train, M, 1,TSLA_M_limits)\n",
    "\n",
    "    TSLA_values_train = np.insert(TSLA_values_train, 2, TSLA_buckets_N, axis=1)\n",
    "    TSLA_values_train = np.insert(TSLA_values_train, 3, TSLA_buckets_M, axis=1)\n",
    "\n",
    "    TSLA_conditional_prob = comp_conditional_prob(TSLA_values_train[:,2],TSLA_values_train[:,3])\n",
    "\n",
    "    TSLA_values_test = comp_values(TSLA_data_test)\n",
    "    TSLA_buckets_N=comp_buckets(TSLA_values_test, N, 0,TSLA_N_limits)\n",
    "    TSLA_buckets_M=comp_buckets(TSLA_values_test, M, 1,TSLA_M_limits)\n",
    "    TSLA_values_test = np.insert(TSLA_values_test, 2, TSLA_buckets_N, axis=1)\n",
    "    TSLA_values_test = np.insert(TSLA_values_test, 3, TSLA_buckets_M, axis=1)\n",
    "\n",
    "    TSLA_modeled_values = model_values_test(TSLA_conditional_prob, TSLA_values_test)\n",
    "    TSLA_errors = compute_error(TSLA_modeled_values,TSLA_values_test)\n",
    "    \n",
    "    TSLA_RSS += [sum(TSLA_errors)]"
   ]
  },
  {
   "cell_type": "code",
   "execution_count": 11,
   "metadata": {},
   "outputs": [
    {
     "name": "stdout",
     "output_type": "stream",
     "text": [
      "Minimizing value of N:  7\n"
     ]
    }
   ],
   "source": [
    "Total_RSS = [a + b for a, b in zip(NFLX_RSS, TSLA_RSS)]\n",
    "print('Minimizing value of N: ', 5 + Total_RSS.index(min(Total_RSS)))"
   ]
  },
  {
   "cell_type": "code",
   "execution_count": 12,
   "metadata": {},
   "outputs": [
    {
     "name": "stdout",
     "output_type": "stream",
     "text": [
      "[69.0, 73.0, 73.0, 81.0, 92.0, 93.0]\n",
      "[57.0, 50.0, 47.0, 51.0, 59.0, 67.0]\n",
      "[126.0, 123.0, 120.0, 132.0, 151.0, 160.0]\n"
     ]
    }
   ],
   "source": [
    "print(NFLX_RSS)\n",
    "print(TSLA_RSS)\n",
    "print(Total_RSS)"
   ]
  },
  {
   "cell_type": "code",
   "execution_count": null,
   "metadata": {},
   "outputs": [],
   "source": []
  }
 ],
 "metadata": {
  "kernelspec": {
   "display_name": "Python 3 (ipykernel)",
   "language": "python",
   "name": "python3"
  },
  "language_info": {
   "codemirror_mode": {
    "name": "ipython",
    "version": 3
   },
   "file_extension": ".py",
   "mimetype": "text/x-python",
   "name": "python",
   "nbconvert_exporter": "python",
   "pygments_lexer": "ipython3",
   "version": "3.9.13"
  }
 },
 "nbformat": 4,
 "nbformat_minor": 2
}
