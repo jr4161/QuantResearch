{
 "cells": [
  {
   "cell_type": "markdown",
   "metadata": {},
   "source": [
    "# <span style='color:red'>Project 1</span>"
   ]
  },
  {
   "cell_type": "code",
   "execution_count": 2,
   "metadata": {},
   "outputs": [
    {
     "name": "stderr",
     "output_type": "stream",
     "text": [
      "C:\\Users\\JackR\\AppData\\Local\\Temp\\ipykernel_6664\\1661940314.py:1: DeprecationWarning: Importing display from IPython.core.display is deprecated since IPython 7.14, please import from IPython display\n",
      "  from IPython.core.display import display, HTML\n"
     ]
    },
    {
     "data": {
      "text/html": [
       "<style>.container { width: 90% !important; }</style>"
      ],
      "text/plain": [
       "<IPython.core.display.HTML object>"
      ]
     },
     "metadata": {},
     "output_type": "display_data"
    }
   ],
   "source": [
    "from IPython.core.display import display, HTML\n",
    "display(HTML(\"<style>.container { width: 90% !important; }</style>\"))\n",
    "\n",
    "import csv\n",
    "import sys\n",
    "import scipy.io\n",
    "import numpy as np\n",
    "import math\n",
    "import matplotlib.pyplot as plt"
   ]
  },
  {
   "cell_type": "markdown",
   "metadata": {},
   "source": [
    "#### In this project we use dynamic programming to create a trading schedule that maximizes total number of shares traded, under a model of liquidity impact with memory"
   ]
  },
  {
   "cell_type": "markdown",
   "metadata": {},
   "source": [
    "#### Suppose we have a total of N shares that we would like to trade over T time periods.  To do so, we produce a schedule\n",
    "$$ (n_0, n_1, \\ldots, n_{T-1}) \\quad \\text{where each} \\quad n_i > 0 \\quad \\text{and} \\sum_{i = 0}^{T-1} n_i = N$$\n",
    "#### Each $n_i$ represents the quantity that we will attempt  to trade at time $i = 0, 2, \\ldots, T-1$.  In reality the market will only allow us to sell a smaller quantity.\n",
    "#### This plays out as follows.  Assume that $\\alpha > 0$ (and very small) and $0 < \\pi < 1$ are given parameters.  Then we run the following process:\n",
    "#### 1. Initialize $M = 0$.  Then for $i = 0, 2, \\ldots, T-1$ we do the following:\n",
    "#### 2. Compute $M \\leftarrow \\lceil 0.5*(M + n_i)\\rceil$.\n",
    "#### 3. At time $i$ we trade $S_i \\ = \\ \\lceil(1 - \\alpha M^\\pi)n_i \\rceil$ shares."
   ]
  },
  {
   "cell_type": "markdown",
   "metadata": {},
   "source": [
    "#### <span style='color:red'>Example:  N = 10000, T = 4,   $\\alpha = 0.001$,   $\\pi = 0.5$</span>\n"
   ]
  },
  {
   "cell_type": "code",
   "execution_count": 13,
   "metadata": {},
   "outputs": [
    {
     "name": "stdout",
     "output_type": "stream",
     "text": [
      "[5000 1000 2000 2000]\n",
      "at time 0, M = 2500 and we trade 4750 shares\n",
      "at time 1, M = 1750 and we trade 959 shares\n",
      "at time 2, M = 1875 and we trade 1914 shares\n",
      "at time 3, M = 1938 and we trade 1912 shares\n",
      "total sold = 9535\n"
     ]
    }
   ],
   "source": [
    "M = 0\n",
    "T = 4\n",
    "N = 10000\n",
    "alpha = 1e-3\n",
    "pi = 0.5\n",
    "S = np.zeros(T,dtype='i')\n",
    "n  = np.array([5000,1000,2000,2000]) # note that we index the array starting from zero\n",
    "print(n)\n",
    "total = 0\n",
    "for i in range(T):\n",
    "    M = math.ceil(0.5*(M + n[i]))\n",
    "    S[i] = math.ceil((1 - alpha*M**pi)*n[i])\n",
    "    total += S[i]\n",
    "    print('at time %d, M = %d and we trade %d shares' %(i,M,S[i]))\n",
    "print('total sold =', total)"
   ]
  },
  {
   "cell_type": "markdown",
   "metadata": {},
   "source": [
    "### <span style='color:red'>Task 1: </span>code a dynamic programming algorithm that computes an optimal schedule of trades $(n_0, n_1, \\ldots, n_{T-1})$ with the goal of maximizing the total number of traded shares\n",
    "#### Make sure that your code runs well for a range of values of $\\alpha$ and $\\pi$\n",
    "#### Compute the optimal schedule when $\\alpha = 0.001$, $\\pi = 0.5$, $N = 100000$ and $T = 10$.   Denote this schedule by $(S_0, S_1, \\ldots, S_9)$."
   ]
  },
  {
   "cell_type": "code",
   "execution_count": 3,
   "metadata": {},
   "outputs": [
    {
     "name": "stdout",
     "output_type": "stream",
     "text": [
      "computing T= 8\n",
      "computing T= 7\n",
      "computing T= 6\n",
      "computing T= 5\n",
      "computing T= 4\n",
      "computing T= 3\n",
      "computing T= 2\n",
      "computing T= 1\n",
      "computing T= 0\n",
      "at time 0, M = 6000, attempt to sell 12000 shares and sell 11071 shares\n",
      "at time 1, M = 8000, attempt to sell 10000 shares and sell 9106 shares\n",
      "at time 2, M = 9000, attempt to sell 10000 shares and sell 9052 shares\n",
      "at time 3, M = 10000, attempt to sell 11000 shares and sell 9900 shares\n",
      "at time 4, M = 10000, attempt to sell 10000 shares and sell 9000 shares\n",
      "at time 5, M = 10000, attempt to sell 10000 shares and sell 9000 shares\n",
      "at time 6, M = 10000, attempt to sell 10000 shares and sell 9000 shares\n",
      "at time 7, M = 11000, attempt to sell 12000 shares and sell 10742 shares\n",
      "at time 8, M = 13000, attempt to sell 15000 shares and sell 13290 shares\n",
      "at time 9, M = 6500, attempt to sell 0 shares and sell 0 shares\n",
      "total sold = 90161.0\n"
     ]
    }
   ],
   "source": [
    "N = 100000\n",
    "B = 1000   # a number to break the 100000 shares into batches\n",
    "NB = int(N/B)\n",
    "T = 10\n",
    "alpha = 1e-3\n",
    "pi = .5\n",
    "Ms = math.ceil(NB/2)\n",
    "S1 = np.zeros((T,NB+1,Ms+1))\n",
    "Ni = np.zeros((T,NB+1,Ms+1))\n",
    "ceilling = np.vectorize(math.ceil)\n",
    "\n",
    "\n",
    "def updateM(M,n):\n",
    "    return math.ceil(0.5*(M + n))\n",
    "\n",
    "VupdateM = np.vectorize(updateM) #vectorize the update function for vectorized multiplication of the results\n",
    "\n",
    "\n",
    "def findNi(S,Ni,N,B,alpha,pi,loud):\n",
    "    m = np.arange(0,math.ceil(NB/2)+1)\n",
    "    \n",
    "    for n in range(N+1): #this fills out all possibilities at time=T\n",
    "        S[T-1,n,:] = ceilling((1-alpha*VupdateM(m*B,n*B)**pi)*n*B)\n",
    "        \n",
    "    Ni[T-1,:,m] = np.arange(0,NB+1)*B\n",
    "    candidates = np.zeros(N+1)       \n",
    "    ns = np.arange(0,N+1)\n",
    "\n",
    "    for t in range(T-1)[::-1]: #iterate through time backwards starting at T-1, since just calculated for T above\n",
    "        if loud:\n",
    "            print(\"computing T=\",t)\n",
    "        for mi in m:\n",
    "            for n in range(N+1):\n",
    "                newmarray = VupdateM(mi,ns[:n+1])\n",
    "                #print(\"before: \",len(newmarray))\n",
    "                newmarray = newmarray[newmarray<=Ms]\n",
    "                #print(\"after: \",len(newmarray))\n",
    "                considerupto = np.minimum(len(newmarray),n+1)\n",
    "                st = ceilling((1-alpha*(B*newmarray)**pi)*B*ns[:considerupto])\n",
    "                candidates[:considerupto] = st + S[t+1,n-ns[:considerupto],newmarray]\n",
    "                Ni[t,n,mi] = int(np.argmax(candidates[:considerupto])*B)\n",
    "                S[t,n,mi] = np.max(candidates[:considerupto])\n",
    "\n",
    "                \n",
    "def computeThroughN(Ni,N,B,T,M,alpha,pi):\n",
    "    ni = np.zeros(T)\n",
    "    m = M\n",
    "    lefttosell = N\n",
    "    for t in range(T):\n",
    "        ni[t] = Ni[t,lefttosell,m]\n",
    "        lefttosell = int(lefttosell - ni[t]/B)\n",
    "        m = int(updateM(m*B,ni[t])/B)\n",
    "    return ni\n",
    "\n",
    "findNi(S1,Ni,NB,B,alpha,pi,True)\n",
    "NiArray = computeThroughN(Ni,NB,B,10,0,alpha,pi)\n",
    "\n",
    "def computeS(M,n,alpha,pi):\n",
    "    return math.ceil((1-alpha*updateM(M,n)**pi)*n)\n",
    "\n",
    "def computeSi(M,T,ni,a,p,loud):\n",
    "    S = np.zeros(T)\n",
    "    total = 0\n",
    "    for i in range(T):\n",
    "        S[i] = computeS(M,ni[i],a,p)\n",
    "        M = updateM(M,ni[i])\n",
    "        total += S[i]\n",
    "        if loud: \n",
    "            print('at time %d, M = %d, attempt to sell %d shares and sell %d shares' %(i,M,ni[i],S[i]))\n",
    "    \n",
    "    if loud: \n",
    "        print('total sold =', total)\n",
    "\n",
    "    return S\n",
    "\n",
    "s = computeSi(0,10,NiArray,alpha,pi,loud=True)"
   ]
  },
  {
   "cell_type": "markdown",
   "metadata": {},
   "source": [
    "### <span style='color:red'>Task 2. Test the effectiveness of this computed schedule using the first 2 hours of each day in the TSLA data </span>\n",
    "To do so, we divide the first 2.5 hours of each day into 12 separate intervals of ten minutes each.\n",
    "Each interval is evaluated as follows.  Suppose that the traded volume in that interval is given by the numbers $(V_0, V_1, \\ldots, V_9)$\n",
    "Then the interval score we assign to our schedule is given by\n",
    "$$ \\sum_{i = 0}^9 \\min\\{ S_i, V_i \\}$$"
   ]
  },
  {
   "cell_type": "markdown",
   "metadata": {},
   "source": [
    "#### The TOTAL SCORE we assign to our schedule is the average of the all interval scores, averaged over the first 12 intervals of all the days in the first half of our data\n",
    "#### In other words, if we have 300 days of data, we take the first 150, and we get in total 12x150 = 1800 intervals"
   ]
  },
  {
   "cell_type": "code",
   "execution_count": 10,
   "metadata": {},
   "outputs": [
    {
     "name": "stdout",
     "output_type": "stream",
     "text": [
      "The total score for the algorithm is: 90610.0\n"
     ]
    }
   ],
   "source": [
    "filename = 'TSLA.csv'\n",
    "\n",
    "def compute_score(s,filename,loud):\n",
    "    \n",
    "    # Read the file\n",
    "    f = open(filename,'r')\n",
    "    csvf = csv.reader(f)\n",
    "    data = list(csvf)\n",
    "    f.close()\n",
    "\n",
    "    # checking the data\n",
    "    data = np.array(data)\n",
    "    string_volume = data[4:,6]\n",
    "    length_checker = np.vectorize(len)  \n",
    "    v_len = length_checker(string_volume)\n",
    "    first0 = np.argmin(v_len) #find where there is a gap in the data\n",
    "\n",
    "    # realize how many days are in data\n",
    "    data = data[4:first0,(0,6)] \n",
    "    data[0,0] = data[1,0]\n",
    "    \n",
    "    # computing the date\n",
    "    a = data[:,0]\n",
    "    a = np.array([x.split(' ') for x in a], dtype=str)\n",
    "    a = a[:,0]\n",
    "    y = np.array([x.split('/') for x in a], dtype=str)\n",
    "    y = y[:,2].astype(int)*10000+y[:,0].astype(int)*100+y[:,1].astype(int)\n",
    "    data = np.insert(data, 2, y, axis=1)\n",
    "\n",
    "    # only consider half of the days\n",
    "    days = np.unique(data[:,2],)\n",
    "    days_considered = days[0:len(days)//2]\n",
    "    data = data[np.isin(data[:,2],days_considered),:]\n",
    "\n",
    "    # computing the score for each day\n",
    "    n_days = len(days_considered)\n",
    "    score_days = np.zeros(n_days)\n",
    "    for i in range(n_days):\n",
    "        data_day = data[np.isin(data[:,2],days_considered[i]),:]\n",
    "\n",
    "        volume = data_day[:,1].astype(int)\n",
    "        volagg = np.zeros(len(s),dtype = 'i')\n",
    "        score = np.zeros(len(s),dtype = 'i')\n",
    "\n",
    "        for t in range(len(s)):\n",
    "            volagg[t] = np.sum(volume[12*t: 12*t+12])\n",
    "            score[t] = np.minimum(volagg[t],s[t])\n",
    "        \n",
    "        score_days[i] = np.sum(score)\n",
    "\n",
    "    total_score = np.mean(score_days)\n",
    "    if loud: print('The total score for the algorithm is:',total_score)\n",
    "\n",
    "    return total_score\n",
    "\n",
    "tot_score = compute_score(s,filename,True)"
   ]
  },
  {
   "cell_type": "markdown",
   "metadata": {},
   "source": [
    "### <span style='color:red'>Task 3:</span>  code an algorithm that (approximately) does the following:\n",
    "#### 1. It approximately enumerates all possible values for $\\pi$ between $0.3$ and $0.7$\n",
    "#### 2. It approximately computes the value of $\\pi$ that maximizes the TOTAL SCORE, when $N = 100000$, $T = 10$ and $\\alpha = 0.001$.\n",
    "#### 3. This means that we run the DP algorithm (under the chosen value of $\\pi$) and then evaluate as above to compute the TOTAL SCORE."
   ]
  },
  {
   "cell_type": "code",
   "execution_count": 11,
   "metadata": {},
   "outputs": [
    {
     "name": "stdout",
     "output_type": "stream",
     "text": [
      "[0.3  0.31 0.32 0.33 0.34 0.35 0.36 0.37 0.38 0.39 0.4  0.41 0.42 0.43\n",
      " 0.44 0.45 0.46 0.47 0.48 0.49 0.5  0.51 0.52 0.53 0.54 0.55 0.56 0.57\n",
      " 0.58 0.59 0.6  0.61 0.62 0.63 0.64 0.65 0.66 0.67 0.68 0.69 0.7 ]\n",
      "Considering  41  values of pi\n",
      "Maximum score is : 98477.0\n",
      "Maximum score is found when pi : 0.3\n"
     ]
    }
   ],
   "source": [
    "pi_ini = 0.3\n",
    "pi_fin = 0.7\n",
    "step = 100 # how many values between 0.3 and 0.7 to check\n",
    "\n",
    "pi_values = np.array(range(int(step*pi_ini),int(step*pi_fin)+1))\n",
    "pi_values = pi_values/step\n",
    "print(pi_values)\n",
    "s_scores = np.zeros(len(pi_values))\n",
    "\n",
    "for i in range(len(pi_values)):\n",
    "    n_i = computeThroughN(Ni,NB,B,10,0,alpha,pi_values[i])\n",
    "    s_i = computeSi(0,10,n_i,alpha,pi_values[i],False)\n",
    "    s_scores[i] = compute_score(s_i,filename,False)\n",
    "\n",
    "print('Considering ',len(pi_values),' values of pi')\n",
    "print('Maximum score is :',np.max(s_scores))\n",
    "print('Maximum score is found when pi :',pi_values[np.argmax(s_scores)])"
   ]
  },
  {
   "cell_type": "code",
   "execution_count": null,
   "metadata": {},
   "outputs": [],
   "source": []
  }
 ],
 "metadata": {
  "kernelspec": {
   "display_name": "Python 3 (ipykernel)",
   "language": "python",
   "name": "python3"
  },
  "language_info": {
   "codemirror_mode": {
    "name": "ipython",
    "version": 3
   },
   "file_extension": ".py",
   "mimetype": "text/x-python",
   "name": "python",
   "nbconvert_exporter": "python",
   "pygments_lexer": "ipython3",
   "version": "3.9.13"
  }
 },
 "nbformat": 4,
 "nbformat_minor": 2
}
